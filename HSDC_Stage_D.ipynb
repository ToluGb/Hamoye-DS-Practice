{
  "nbformat": 4,
  "nbformat_minor": 0,
  "metadata": {
    "colab": {
      "name": "HSDC Stage D.ipynb",
      "provenance": [],
      "authorship_tag": "ABX9TyNVL9lHAmLdGZmcYlA/X2f+",
      "include_colab_link": true
    },
    "kernelspec": {
      "name": "python3",
      "display_name": "Python 3"
    }
  },
  "cells": [
    {
      "cell_type": "markdown",
      "metadata": {
        "id": "view-in-github",
        "colab_type": "text"
      },
      "source": [
        "<a href=\"https://colab.research.google.com/github/ToluGb/Hamoye-DSI-2020/blob/master/HSDC_Stage_D.ipynb\" target=\"_parent\"><img src=\"https://colab.research.google.com/assets/colab-badge.svg\" alt=\"Open In Colab\"/></a>"
      ]
    },
    {
      "cell_type": "code",
      "metadata": {
        "id": "C7_JnRhNcD0f",
        "colab_type": "code",
        "colab": {
          "base_uri": "https://localhost:8080/",
          "height": 88
        },
        "outputId": "a2f5cb01-121a-49af-9e62-8c04fba55f2e"
      },
      "source": [
        "import numpy as np\n",
        "import matplotlib.pyplot as plt\n",
        "import tensorflow.compat.v1 as tf\n",
        "from tensorflow import keras\n",
        "tf.disable_v2_behavior()"
      ],
      "execution_count": 1,
      "outputs": [
        {
          "output_type": "stream",
          "text": [
            "WARNING:tensorflow:From /usr/local/lib/python3.6/dist-packages/tensorflow/python/compat/v2_compat.py:96: disable_resource_variables (from tensorflow.python.ops.variable_scope) is deprecated and will be removed in a future version.\n",
            "Instructions for updating:\n",
            "non-resource variables are not supported in the long term\n"
          ],
          "name": "stdout"
        }
      ]
    },
    {
      "cell_type": "code",
      "metadata": {
        "id": "msH_HQRUvvOx",
        "colab_type": "code",
        "colab": {
          "base_uri": "https://localhost:8080/",
          "height": 51
        },
        "outputId": "d58541df-69bd-4be2-cfdf-2d413c380f18"
      },
      "source": [
        "mnist = keras.datasets.mnist\n",
        "(train_images, train_labels), (test_images, test_labels) = mnist.load_data()"
      ],
      "execution_count": 2,
      "outputs": [
        {
          "output_type": "stream",
          "text": [
            "Downloading data from https://storage.googleapis.com/tensorflow/tf-keras-datasets/mnist.npz\n",
            "11493376/11490434 [==============================] - 0s 0us/step\n"
          ],
          "name": "stdout"
        }
      ]
    },
    {
      "cell_type": "code",
      "metadata": {
        "id": "Ie4o2srcwHMO",
        "colab_type": "code",
        "colab": {
          "base_uri": "https://localhost:8080/",
          "height": 34
        },
        "outputId": "c74e70a4-c662-4914-a33e-07c00f132d10"
      },
      "source": [
        "print(\"Training data: {}, {}\".format(train_images.shape, train_labels.shape))"
      ],
      "execution_count": 3,
      "outputs": [
        {
          "output_type": "stream",
          "text": [
            "Training data: (60000, 28, 28), (60000,)\n"
          ],
          "name": "stdout"
        }
      ]
    },
    {
      "cell_type": "code",
      "metadata": {
        "id": "RCMtLPzUwVk2",
        "colab_type": "code",
        "colab": {
          "base_uri": "https://localhost:8080/",
          "height": 34
        },
        "outputId": "1befb562-f390-49b8-fe11-78c6213a961d"
      },
      "source": [
        "print(\"Test data: {}, {}\".format(test_images.shape, test_labels.shape))"
      ],
      "execution_count": 4,
      "outputs": [
        {
          "output_type": "stream",
          "text": [
            "Test data: (10000, 28, 28), (10000,)\n"
          ],
          "name": "stdout"
        }
      ]
    },
    {
      "cell_type": "code",
      "metadata": {
        "id": "5dl0WGnllc2R",
        "colab_type": "code",
        "colab": {
          "base_uri": "https://localhost:8080/",
          "height": 34
        },
        "outputId": "5f12bbdf-a0c0-4372-cb5d-563281cae46a"
      },
      "source": [
        "class_labels = np.unique(train_labels)\n",
        "print(\"There are {} classes in the dataset. They are: {}\".format(len(class_labels), class_labels))"
      ],
      "execution_count": 5,
      "outputs": [
        {
          "output_type": "stream",
          "text": [
            "There are 10 classes in the dataset. They are: [0 1 2 3 4 5 6 7 8 9]\n"
          ],
          "name": "stdout"
        }
      ]
    },
    {
      "cell_type": "code",
      "metadata": {
        "id": "ZT6e14MDlimx",
        "colab_type": "code",
        "colab": {
          "base_uri": "https://localhost:8080/",
          "height": 195
        },
        "outputId": "b26f4d9a-38c9-4d81-9d2f-b78eb9951124"
      },
      "source": [
        "plt.figure(figsize=(8, 5))\n",
        "\n",
        "plt.subplot(1,3,1)\n",
        "plt.imshow(train_images[0])\n",
        "plt.title(\"Label: {}\".format(train_labels[0]))\n",
        "\n",
        "plt.subplot(1,3,2)\n",
        "plt.imshow(train_images[2500])\n",
        "plt.title(\"Label: {}\".format(train_labels[2500]))\n",
        "\n",
        "plt.subplot(1,3,3)\n",
        "plt.imshow(test_images[12])\n",
        "\n",
        "plt.show()"
      ],
      "execution_count": 6,
      "outputs": [
        {
          "output_type": "display_data",
          "data": {
            "image/png": "[encoded data removed]",
            "text/plain": [
              "<Figure size 576x360 with 3 Axes>"
            ]
          },
          "metadata": {
            "tags": [],
            "needs_background": "light"
          }
        }
      ]
    },
    {
      "cell_type": "code",
      "metadata": {
        "id": "QaBJnqtjm44g",
        "colab_type": "code",
        "colab": {}
      },
      "source": [
        "# As usual, we scale our dataset to range between 0 and 1. In this dataset, the pixel values range from 0 to 255.\n",
        "# Dividing the data by 255 scales to the required range\n",
        "\n",
        "train_images = train_images / 255.0\n",
        "test_images = test_images / 255.0"
      ],
      "execution_count": 8,
      "outputs": []
    },
    {
      "cell_type": "markdown",
      "metadata": {
        "id": "db1vX0Vdp0MU",
        "colab_type": "text"
      },
      "source": [
        "Split training data to training and validation sets.py"
      ]
    },
    {
      "cell_type": "code",
      "metadata": {
        "id": "bXayd0H_pvFY",
        "colab_type": "code",
        "colab": {
          "base_uri": "https://localhost:8080/",
          "height": 85
        },
        "outputId": "d3d324dd-2cd6-4f0c-dae6-2505c1a6eed8"
      },
      "source": [
        "x_train = train_images[0:50000]\n",
        "x_val = train_images[50000:]\n",
        "y_train = train_labels[0:50000]\n",
        "y_val = train_labels[50000:]\n",
        "\n",
        "print(\"x_train: {}\".format(x_train.shape)) # prints x_train: (50000, 28, 28)\n",
        "print(\"x_val: {}\".format(x_val.shape)) # prints x_val: (10000, 28, 28)\n",
        "print(\"y_train: {}\".format(y_train.shape)) #prints y_train: (50000,)\n",
        "print(\"y_val: {}\".format(y_val.shape)) #prints y_val: (10000,)"
      ],
      "execution_count": 10,
      "outputs": [
        {
          "output_type": "stream",
          "text": [
            "x_train: (50000, 28, 28)\n",
            "x_val: (10000, 28, 28)\n",
            "y_train: (50000,)\n",
            "y_val: (10000,)\n"
          ],
          "name": "stdout"
        }
      ]
    },
    {
      "cell_type": "markdown",
      "metadata": {
        "id": "GXanyUuso0cF",
        "colab_type": "text"
      },
      "source": [
        "Reshape data from 28 * 28 array to a single array.py"
      ]
    },
    {
      "cell_type": "code",
      "metadata": {
        "id": "Fr6L-MeOoc-G",
        "colab_type": "code",
        "colab": {}
      },
      "source": [
        "new_dimension = np.prod(train_images.shape[1:])\n",
        "x_train = x_train.reshape(x_train.shape[0], new_dimension)\n",
        "x_val = x_val.reshape(x_val.shape[0], new_dimension)\n",
        "test_images = test_images.reshape(test_images.shape[0], new_dimension)"
      ],
      "execution_count": 11,
      "outputs": []
    },
    {
      "cell_type": "markdown",
      "metadata": {
        "id": "b3g_FG6wq2VG",
        "colab_type": "text"
      },
      "source": [
        "Encode labels to categorical variables.py"
      ]
    },
    {
      "cell_type": "code",
      "metadata": {
        "id": "gdvrwhGlpp_T",
        "colab_type": "code",
        "colab": {}
      },
      "source": [
        "from tensorflow.keras.utils import to_categorical\n",
        "no_labels = 10\n",
        "y_train = to_categorical(y_train, no_labels)\n",
        "y_val = to_categorical(y_val, no_labels)\n",
        "y_test = to_categorical(test_labels, no_labels)"
      ],
      "execution_count": 14,
      "outputs": []
    },
    {
      "cell_type": "markdown",
      "metadata": {
        "id": "iBkcvS8urdfc",
        "colab_type": "text"
      },
      "source": [
        "Activation functions and Neural Networks hyperparameters.py"
      ]
    },
    {
      "cell_type": "code",
      "metadata": {
        "id": "4LjR94A2rONw",
        "colab_type": "code",
        "colab": {}
      },
      "source": [
        "# inputs\n",
        "#placeholders are not enabled in tf 2\n",
        "X = tf.compat.v1.placeholder(tf.float32, [None, new_dimension])\n",
        "Y = tf.compat.v1.placeholder(tf.float32, [None, no_labels])"
      ],
      "execution_count": 17,
      "outputs": []
    },
    {
      "cell_type": "code",
      "metadata": {
        "id": "niCqubbHsQak",
        "colab_type": "code",
        "colab": {}
      },
      "source": [
        "# create model architecture\n",
        "def multilayer_perceptron(x, no_classes, first_layer_neurons=256, second_layer_neurons=128):\n",
        "  # first layer\n",
        "  first_weight = tf.Variable(tf.random_uniform([new_dimension, first_layer_neurons]))\n",
        "  first_bias = tf.Variable(tf.zeros([first_layer_neurons]))\n",
        "  first_layer_output = tf.nn.relu(tf.add(tf.matmul(x, first_weight), first_bias))\n",
        "\n",
        "  # second layer\n",
        "  second_weight = tf.Variable(tf.random_uniform([first_layer_neurons,second_layer_neurons]))\n",
        "  second_bias = tf.Variable(tf.zeros([second_layer_neurons]))\n",
        "  second_layer_output = tf.nn.relu(tf.add(tf.matmul(first_layer_output, second_weight), second_bias))\n",
        "\n",
        "  # output layer\n",
        "  final_weight = tf.Variable(tf.random_uniform([second_layer_neurons, no_classes]))\n",
        "  final_bias = tf.Variable(tf.zeros([no_classes]))\n",
        "  logits = tf.add(tf.matmul(second_layer_output, final_weight), final_bias)\n",
        "\n",
        "  return logits"
      ],
      "execution_count": 18,
      "outputs": []
    },
    {
      "cell_type": "code",
      "metadata": {
        "id": "c10LOLpU7oJN",
        "colab_type": "code",
        "colab": {
          "base_uri": "https://localhost:8080/",
          "height": 173
        },
        "outputId": "b076c042-8d59-46fe-b1ae-9c53748f3f32"
      },
      "source": [
        "logits = multilayer_perceptron(X, no_labels)\n",
        "\n",
        "learning_rate = 0.01\n",
        "#we define the loss and optimiser for the network\n",
        "loss_op = tf.reduce_mean(tf.nn.softmax_cross_entropy_with_logits(logits=logits, labels=Y))\n",
        "optimiser = tf.train.AdamOptimizer(learning_rate=learning_rate)\n",
        "train_op = optimiser.minimize(loss_op)"
      ],
      "execution_count": 19,
      "outputs": [
        {
          "output_type": "stream",
          "text": [
            "WARNING:tensorflow:From /usr/local/lib/python3.6/dist-packages/tensorflow/python/util/dispatch.py:201: softmax_cross_entropy_with_logits (from tensorflow.python.ops.nn_ops) is deprecated and will be removed in a future version.\n",
            "Instructions for updating:\n",
            "\n",
            "Future major versions of TensorFlow will allow gradients to flow\n",
            "into the labels input on backprop by default.\n",
            "\n",
            "See `tf.nn.softmax_cross_entropy_with_logits_v2`.\n",
            "\n"
          ],
          "name": "stdout"
        }
      ]
    },
    {
      "cell_type": "code",
      "metadata": {
        "id": "x8LO6u09_chL",
        "colab_type": "code",
        "colab": {}
      },
      "source": [
        "#initialise the variables\n",
        "init = tf.global_variables_initializer()\n",
        "\n",
        "epochs = 20\n",
        "batch_size = 1000\n",
        "iteration = len(x_train) // batch_size"
      ],
      "execution_count": 20,
      "outputs": []
    },
    {
      "cell_type": "code",
      "metadata": {
        "id": "07Pf1428_nbe",
        "colab_type": "code",
        "colab": {
          "base_uri": "https://localhost:8080/",
          "height": 374
        },
        "outputId": "efb32e8c-7697-4fa0-bca0-5e8e5c3d9453"
      },
      "source": [
        "#train model\n",
        "with tf.Session() as session:\n",
        "  session.run(init)\n",
        "  for epoch in range(epochs):\n",
        "    average_cost = 0\n",
        "    start, end = 0, batch_size\n",
        "\n",
        "    for i in range(iteration):\n",
        "      batch_x, batch_y = x_train[start: end], y_train[start: end]\n",
        "      _, loss = session.run([train_op, loss_op], feed_dict={X: batch_x, Y: batch_y})\n",
        "      start += batch_size\n",
        "      end += batch_size \n",
        "      #average loss\n",
        "      average_cost += loss/iteration\n",
        "    print(\"Epoch========{}\".format(epoch))\n",
        "\n",
        "     #evaluate model\n",
        "  prediction = tf.nn.softmax(logits)\n",
        "  ground_truth = tf.equal(tf.argmax(prediction, 1), tf.argmax(Y, 1))\n",
        "  accuracy = tf.reduce_mean(tf.cast(ground_truth, \"float\"))\n",
        "  print(\"Accuracy: {}\".format(accuracy.eval({X: test_images, Y: y_test})))\n",
        "    "
      ],
      "execution_count": 21,
      "outputs": [
        {
          "output_type": "stream",
          "text": [
            "Epoch========0\n",
            "Epoch========1\n",
            "Epoch========2\n",
            "Epoch========3\n",
            "Epoch========4\n",
            "Epoch========5\n",
            "Epoch========6\n",
            "Epoch========7\n",
            "Epoch========8\n",
            "Epoch========9\n",
            "Epoch========10\n",
            "Epoch========11\n",
            "Epoch========12\n",
            "Epoch========13\n",
            "Epoch========14\n",
            "Epoch========15\n",
            "Epoch========16\n",
            "Epoch========17\n",
            "Epoch========18\n",
            "Epoch========19\n",
            "Accuracy: 0.9128999710083008\n"
          ],
          "name": "stdout"
        }
      ]
    },
    {
      "cell_type": "code",
      "metadata": {
        "id": "NQZtGrW_Amth",
        "colab_type": "code",
        "colab": {
          "base_uri": "https://localhost:8080/",
          "height": 819
        },
        "outputId": "3099bc6d-58b1-49fa-80b6-c16222777c29"
      },
      "source": [
        "# Building a Sequential Feed Forward Network in Keras\n",
        "\n",
        "# The model definition\n",
        "from tensorflow.keras.layers import Dense\n",
        "from tensorflow.keras.models import Sequential\n",
        "\n",
        "# Defining the model architecture\n",
        "model = Sequential()\n",
        "model.add(Dense(256, activation='relu', input_shape=(new_dimension,)))\n",
        "model.add(Dense(128, activation='relu'))\n",
        "model.add(Dense(no_labels, activation='softmax'))\n",
        "\n",
        "# Compiling the model\n",
        "model.compile(optimizer='adam', loss=tf.keras.losses.categorical_crossentropy, metrics=['accuracy'])\n",
        "\n",
        "# training the model\n",
        "history = model.fit(x_train, y_train, validation_data=(x_val, y_val), epochs=20, batch_size=1000)\n",
        "\n",
        "# Evaluating the model on the test set using loss and accuracy\n",
        "test_loss, test_accuracy = model.evaluate(test_images, y_test)\n",
        "print('Test loss: {}'.format(test_loss))\n",
        "print('Test accuracy: {}'.format(test_accuracy))"
      ],
      "execution_count": 22,
      "outputs": [
        {
          "output_type": "stream",
          "text": [
            "Train on 50000 samples, validate on 10000 samples\n",
            "Epoch 1/20\n",
            "49000/50000 [============================>.] - ETA: 0s - loss: 0.6987 - acc: 0.8159WARNING:tensorflow:From /usr/local/lib/python3.6/dist-packages/tensorflow/python/keras/engine/training_v1.py:2048: Model.state_updates (from tensorflow.python.keras.engine.training) is deprecated and will be removed in a future version.\n",
            "Instructions for updating:\n",
            "This property should not be used in TensorFlow 2.0, as updates are applied automatically.\n",
            "50000/50000 [==============================] - 1s 29us/sample - loss: 0.6903 - acc: 0.8179 - val_loss: 0.2624 - val_acc: 0.9234\n",
            "Epoch 2/20\n",
            "50000/50000 [==============================] - 1s 29us/sample - loss: 0.2384 - acc: 0.9308 - val_loss: 0.1844 - val_acc: 0.9491\n",
            "Epoch 3/20\n",
            "50000/50000 [==============================] - 1s 30us/sample - loss: 0.1736 - acc: 0.9498 - val_loss: 0.1516 - val_acc: 0.9591\n",
            "Epoch 4/20\n",
            "50000/50000 [==============================] - 1s 29us/sample - loss: 0.1340 - acc: 0.9609 - val_loss: 0.1287 - val_acc: 0.9638\n",
            "Epoch 5/20\n",
            "50000/50000 [==============================] - 1s 29us/sample - loss: 0.1087 - acc: 0.9688 - val_loss: 0.1146 - val_acc: 0.9676\n",
            "Epoch 6/20\n",
            "50000/50000 [==============================] - 1s 28us/sample - loss: 0.0904 - acc: 0.9736 - val_loss: 0.1055 - val_acc: 0.9698\n",
            "Epoch 7/20\n",
            "50000/50000 [==============================] - 1s 29us/sample - loss: 0.0753 - acc: 0.9788 - val_loss: 0.0944 - val_acc: 0.9714\n",
            "Epoch 8/20\n",
            "50000/50000 [==============================] - 1s 28us/sample - loss: 0.0639 - acc: 0.9819 - val_loss: 0.0915 - val_acc: 0.9731\n",
            "Epoch 9/20\n",
            "50000/50000 [==============================] - 1s 29us/sample - loss: 0.0562 - acc: 0.9843 - val_loss: 0.0858 - val_acc: 0.9746\n",
            "Epoch 10/20\n",
            "50000/50000 [==============================] - 1s 29us/sample - loss: 0.0473 - acc: 0.9871 - val_loss: 0.0832 - val_acc: 0.9740\n",
            "Epoch 11/20\n",
            "50000/50000 [==============================] - 1s 29us/sample - loss: 0.0410 - acc: 0.9889 - val_loss: 0.0833 - val_acc: 0.9735\n",
            "Epoch 12/20\n",
            "50000/50000 [==============================] - 1s 28us/sample - loss: 0.0358 - acc: 0.9906 - val_loss: 0.0826 - val_acc: 0.9747\n",
            "Epoch 13/20\n",
            "50000/50000 [==============================] - 1s 28us/sample - loss: 0.0294 - acc: 0.9930 - val_loss: 0.0751 - val_acc: 0.9762\n",
            "Epoch 14/20\n",
            "50000/50000 [==============================] - 1s 29us/sample - loss: 0.0256 - acc: 0.9940 - val_loss: 0.0790 - val_acc: 0.9758\n",
            "Epoch 15/20\n",
            "50000/50000 [==============================] - 1s 29us/sample - loss: 0.0229 - acc: 0.9947 - val_loss: 0.0806 - val_acc: 0.9754\n",
            "Epoch 16/20\n",
            "50000/50000 [==============================] - 1s 29us/sample - loss: 0.0196 - acc: 0.9955 - val_loss: 0.0799 - val_acc: 0.9765\n",
            "Epoch 17/20\n",
            "50000/50000 [==============================] - 1s 29us/sample - loss: 0.0165 - acc: 0.9968 - val_loss: 0.0787 - val_acc: 0.9771\n",
            "Epoch 18/20\n",
            "50000/50000 [==============================] - 1s 29us/sample - loss: 0.0142 - acc: 0.9970 - val_loss: 0.0749 - val_acc: 0.9786\n",
            "Epoch 19/20\n",
            "50000/50000 [==============================] - 1s 29us/sample - loss: 0.0119 - acc: 0.9982 - val_loss: 0.0751 - val_acc: 0.9784\n",
            "Epoch 20/20\n",
            "50000/50000 [==============================] - 1s 29us/sample - loss: 0.0102 - acc: 0.9985 - val_loss: 0.0764 - val_acc: 0.9779\n",
            "Test loss: 0.07257217075728695\n",
            "Test accuracy: 0.9786999821662903\n"
          ],
          "name": "stdout"
        }
      ]
    },
    {
      "cell_type": "code",
      "metadata": {
        "id": "GSYuyvgiCdm2",
        "colab_type": "code",
        "colab": {
          "base_uri": "https://localhost:8080/",
          "height": 312
        },
        "outputId": "1c5f5223-c27f-46ab-e8f6-613ca7d04ccc"
      },
      "source": [
        "# Check for Overfitting\n",
        "\n",
        "# Plotting the training and validation loss\n",
        "\n",
        "plt.figure()\n",
        "plt.plot(history.history['loss'], 'blue')\n",
        "plt.plot(history.history['val_loss'], 'red')\n",
        "plt.legend(['Training loss', 'Validation Loss'])\n",
        "plt.xlabel('Epochs')\n",
        "plt.ylabel('Loss')\n",
        "plt.title('Loss curves - before regularisation')"
      ],
      "execution_count": 23,
      "outputs": [
        {
          "output_type": "execute_result",
          "data": {
            "text/plain": [
              "Text(0.5, 1.0, 'Loss curves - before regularisation')"
            ]
          },
          "metadata": {
            "tags": []
          },
          "execution_count": 23
        },
        {
          "output_type": "display_data",
          "data": {
            "image/png": "[encoded data removed]",
            "text/plain": [
              "<Figure size 432x288 with 1 Axes>"
            ]
          },
          "metadata": {
            "tags": [],
            "needs_background": "light"
          }
        }
      ]
    },
    {
      "cell_type": "code",
      "metadata": {
        "id": "0s-kiDPaSA3V",
        "colab_type": "code",
        "colab": {
          "base_uri": "https://localhost:8080/",
          "height": 312
        },
        "outputId": "a5560570-f1a0-49fb-9636-4568e1be6af2"
      },
      "source": [
        "# Plotting the training and validation accuracy\n",
        "plt.figure()\n",
        "plt.plot(history.history['acc'], 'blue')\n",
        "plt.plot(history.history['val_acc'], 'red')\n",
        "plt.legend(['Training Accuracy', 'Validation Accuracy'])\n",
        "plt.xlabel('Epochs')\n",
        "plt.ylabel('Accuracy')\n",
        "plt.title('Accuracy Curves - before regularisation')"
      ],
      "execution_count": 24,
      "outputs": [
        {
          "output_type": "execute_result",
          "data": {
            "text/plain": [
              "Text(0.5, 1.0, 'Accuracy Curves - before regularisation')"
            ]
          },
          "metadata": {
            "tags": []
          },
          "execution_count": 24
        },
        {
          "output_type": "display_data",
          "data": {
            "image/png": "[encoded data removed]",
            "text/plain": [
              "<Figure size 432x288 with 1 Axes>"
            ]
          },
          "metadata": {
            "tags": [],
            "needs_background": "light"
          }
        }
      ]
    },
    {
      "cell_type": "code",
      "metadata": {
        "id": "eX5MvqPXDcQh",
        "colab_type": "code",
        "colab": {
          "base_uri": "https://localhost:8080/",
          "height": 748
        },
        "outputId": "614e11a2-6be7-4cf7-9223-3eb4ffbd2d24"
      },
      "source": [
        "# Although the validation and training loss seem great, we can see that the validation loss increases. \n",
        "# This identifies overfitting in our network. How do we proceed? Introduce regularisation to the model.\n",
        "\n",
        "# loading the Dropout regularization parameter\n",
        "from tensorflow.keras.layers import Dropout\n",
        "\n",
        "# Defining the model architecture of the regularized model to eliminate overfitting\n",
        "reg_model = Sequential()\n",
        "reg_model.add(Dense(256, activation='relu', input_shape=(new_dimension,)))\n",
        "reg_model.add(Dropout(0.4))\n",
        "reg_model.add(Dense(128, activation='relu'))\n",
        "reg_model.add(Dropout(0.4))\n",
        "reg_model.add(Dense(no_labels, activation='softmax'))\n",
        "\n",
        "# Compiling the model\n",
        "reg_model.compile(optimizer='adam', loss=tf.keras.losses.categorical_crossentropy, metrics=['accuracy'])\n",
        "\n",
        "# training thr model\n",
        "reg_history = reg_model.fit(x_train, y_train, validation_data=(x_val, y_val), epochs=20, batch_size=1000)\n",
        "\n",
        "# Evaluating the regularized model on test set\n",
        "test_loss, test_accuracy = reg_model.evaluate(test_images, y_test)\n",
        "print('Test loss: {}'.format(test_loss))\n",
        "print('Test accuracy: {}'.format(test_accuracy))"
      ],
      "execution_count": 25,
      "outputs": [
        {
          "output_type": "stream",
          "text": [
            "Train on 50000 samples, validate on 10000 samples\n",
            "Epoch 1/20\n",
            "50000/50000 [==============================] - 2s 36us/sample - loss: 0.9853 - acc: 0.6879 - val_loss: 0.2920 - val_acc: 0.9165\n",
            "Epoch 2/20\n",
            "50000/50000 [==============================] - 2s 34us/sample - loss: 0.3725 - acc: 0.8909 - val_loss: 0.1970 - val_acc: 0.9426\n",
            "Epoch 3/20\n",
            "50000/50000 [==============================] - 2s 35us/sample - loss: 0.2781 - acc: 0.9201 - val_loss: 0.1585 - val_acc: 0.9552\n",
            "Epoch 4/20\n",
            "50000/50000 [==============================] - 2s 34us/sample - loss: 0.2248 - acc: 0.9339 - val_loss: 0.1371 - val_acc: 0.9604\n",
            "Epoch 5/20\n",
            "50000/50000 [==============================] - 2s 35us/sample - loss: 0.1942 - acc: 0.9429 - val_loss: 0.1205 - val_acc: 0.9642\n",
            "Epoch 6/20\n",
            "50000/50000 [==============================] - 2s 35us/sample - loss: 0.1713 - acc: 0.9504 - val_loss: 0.1101 - val_acc: 0.9665\n",
            "Epoch 7/20\n",
            "50000/50000 [==============================] - 2s 34us/sample - loss: 0.1505 - acc: 0.9548 - val_loss: 0.1026 - val_acc: 0.9693\n",
            "Epoch 8/20\n",
            "50000/50000 [==============================] - 2s 34us/sample - loss: 0.1401 - acc: 0.9584 - val_loss: 0.0959 - val_acc: 0.9715\n",
            "Epoch 9/20\n",
            "50000/50000 [==============================] - 2s 34us/sample - loss: 0.1267 - acc: 0.9618 - val_loss: 0.0922 - val_acc: 0.9731\n",
            "Epoch 10/20\n",
            "50000/50000 [==============================] - 2s 34us/sample - loss: 0.1185 - acc: 0.9651 - val_loss: 0.0861 - val_acc: 0.9747\n",
            "Epoch 11/20\n",
            "50000/50000 [==============================] - 2s 34us/sample - loss: 0.1096 - acc: 0.9673 - val_loss: 0.0836 - val_acc: 0.9750\n",
            "Epoch 12/20\n",
            "50000/50000 [==============================] - 2s 35us/sample - loss: 0.0990 - acc: 0.9712 - val_loss: 0.0804 - val_acc: 0.9763\n",
            "Epoch 13/20\n",
            "50000/50000 [==============================] - 2s 34us/sample - loss: 0.0928 - acc: 0.9717 - val_loss: 0.0821 - val_acc: 0.9760\n",
            "Epoch 14/20\n",
            "50000/50000 [==============================] - 2s 35us/sample - loss: 0.0879 - acc: 0.9729 - val_loss: 0.0749 - val_acc: 0.9769\n",
            "Epoch 15/20\n",
            "50000/50000 [==============================] - 2s 34us/sample - loss: 0.0821 - acc: 0.9750 - val_loss: 0.0754 - val_acc: 0.9773\n",
            "Epoch 16/20\n",
            "50000/50000 [==============================] - 2s 34us/sample - loss: 0.0806 - acc: 0.9758 - val_loss: 0.0714 - val_acc: 0.9786\n",
            "Epoch 17/20\n",
            "50000/50000 [==============================] - 2s 34us/sample - loss: 0.0734 - acc: 0.9775 - val_loss: 0.0738 - val_acc: 0.9780\n",
            "Epoch 18/20\n",
            "50000/50000 [==============================] - 2s 35us/sample - loss: 0.0702 - acc: 0.9784 - val_loss: 0.0707 - val_acc: 0.9784\n",
            "Epoch 19/20\n",
            "50000/50000 [==============================] - 2s 34us/sample - loss: 0.0666 - acc: 0.9789 - val_loss: 0.0708 - val_acc: 0.9786\n",
            "Epoch 20/20\n",
            "50000/50000 [==============================] - 2s 35us/sample - loss: 0.0637 - acc: 0.9808 - val_loss: 0.0715 - val_acc: 0.9781\n",
            "Test loss: 0.06913715175329126\n",
            "Test accuracy: 0.9793999791145325\n"
          ],
          "name": "stdout"
        }
      ]
    },
    {
      "cell_type": "code",
      "metadata": {
        "id": "IkAMSpRqThoW",
        "colab_type": "code",
        "colab": {
          "base_uri": "https://localhost:8080/",
          "height": 312
        },
        "outputId": "52c1b0f8-eeb3-4ebf-d096-e604bc52f0a8"
      },
      "source": [
        "# Plotting the training and validation loss \n",
        "\n",
        "plt.figure()\n",
        "plt.plot(reg_history.history['loss'], 'blue')\n",
        "plt.plot(reg_history.history['val_loss'], 'red')\n",
        "plt.legend(['Training loss', 'Validation Loss'])\n",
        "plt.xlabel('Epochs')\n",
        "plt.ylabel('Loss')\n",
        "plt.title('Loss Curves - after regularisation')"
      ],
      "execution_count": 26,
      "outputs": [
        {
          "output_type": "execute_result",
          "data": {
            "text/plain": [
              "Text(0.5, 1.0, 'Loss Curves - after regularisation')"
            ]
          },
          "metadata": {
            "tags": []
          },
          "execution_count": 26
        },
        {
          "output_type": "display_data",
          "data": {
            "image/png": "[encoded data removed]",
            "text/plain": [
              "<Figure size 432x288 with 1 Axes>"
            ]
          },
          "metadata": {
            "tags": [],
            "needs_background": "light"
          }
        }
      ]
    },
    {
      "cell_type": "code",
      "metadata": {
        "id": "60jUdJxNTkqR",
        "colab_type": "code",
        "colab": {
          "base_uri": "https://localhost:8080/",
          "height": 312
        },
        "outputId": "c2d12c9d-8ea8-40e6-898d-f78759243929"
      },
      "source": [
        "# Plotting the training abd validation accuracy\n",
        "\n",
        "plt.figure()\n",
        "plt.plot(reg_history.history['acc'], 'blue')\n",
        "plt.plot(reg_history.history['val_acc'], 'red')\n",
        "plt.legend(['Training Accuracy', 'Validation Accuracy'])\n",
        "plt.xlabel('Epochs')\n",
        "plt.ylabel('Accuracy')\n",
        "plt.title('Accuracy Curves - after regularisation')"
      ],
      "execution_count": 27,
      "outputs": [
        {
          "output_type": "execute_result",
          "data": {
            "text/plain": [
              "Text(0.5, 1.0, 'Accuracy Curves - after regularisation')"
            ]
          },
          "metadata": {
            "tags": []
          },
          "execution_count": 27
        },
        {
          "output_type": "display_data",
          "data": {
            "image/png": "[encoded data removed]",
            "text/plain": [
              "<Figure size 432x288 with 1 Axes>"
            ]
          },
          "metadata": {
            "tags": [],
            "needs_background": "light"
          }
        }
      ]
    }
  ]
}