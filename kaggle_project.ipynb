{
  "nbformat": 4,
  "nbformat_minor": 0,
  "metadata": {
    "kernelspec": {
      "name": "python3",
      "display_name": "Python 3",
      "language": "python"
    },
    "colab": {
      "name": "kaggle-project.ipynb",
      "provenance": [],
      "include_colab_link": true
    }
  },
  "cells": [
    {
      "cell_type": "markdown",
      "metadata": {
        "id": "view-in-github",
        "colab_type": "text"
      },
      "source": [
        "<a href=\"https://colab.research.google.com/github/ToluGb/Hamoye-DSI-2020/blob/master/kaggle_project.ipynb\" target=\"_parent\"><img src=\"https://colab.research.google.com/assets/colab-badge.svg\" alt=\"Open In Colab\"/></a>"
      ]
    },
    {
      "cell_type": "markdown",
      "metadata": {
        "id": "IMwrrXBtJJrA",
        "colab_type": "text"
      },
      "source": [
        "**Planet: Understanding the Amazon from Space**\n",
        "\n",
        "Use satellite data to track human footprint in the Amazon rainforest\n",
        "\n",
        "Every minute, the world loses an area of forest the size of 48 football fields. And deforestation in the Amazon Basin accounts for the largest share, contributing to reduced biodiversity, habitat loss, climate change, and other devastating effects. But better data about the location of deforestation and human encroachment on forests can help governments and local stakeholders respond more quickly and effectively.\n",
        "\n",
        "Planet, designer and builder of the world’s largest constellation of Earth-imaging satellites, will soon be collecting daily imagery of the entire land surface of the earth at 3-5 meter resolution. While considerable research has been devoted to tracking changes in forests, it typically depends on coarse-resolution imagery from Landsat (30 meter pixels) or MODIS (250 meter pixels). This limits its effectiveness in areas where small-scale deforestation or forest degradation dominate.\n",
        "\n",
        "Furthermore, these existing methods generally cannot differentiate between human causes of forest loss and natural causes. Higher resolution imagery has already been shown to be exceptionally good at this, but robust methods have not yet been developed for Planet imagery.\n",
        "\n",
        "In this competition, Planet and its Brazilian partner SCCON are challenging Kagglers to label satellite image chips with atmospheric conditions and various classes of land cover/land use. Resulting algorithms will help the global community better understand where, how, and why deforestation happens all over the world - and ultimately how to respond."
      ]
    },
    {
      "cell_type": "markdown",
      "metadata": {
        "id": "EOitTe-WLDkx",
        "colab_type": "text"
      },
      "source": [
        "Submissions will be evaluated based on their mean (F_{2}) score. The F score, commonly used in information retrieval, measures accuracy using the precision p and recall r. Precision is the ratio of true positives (tp) to all predicted positives (tp + fp). Recall is the ratio of true positives to all actual positives (tp + fn). "
      ]
    },
    {
      "cell_type": "code",
      "metadata": {
        "trusted": true,
        "id": "93HU0vrKE4b9",
        "colab_type": "code",
        "colab": {}
      },
      "source": [
        "# Importing the relevant libraries and packages\n",
        "import numpy as np\n",
        "import pandas as pd\n",
        "from keras.models import Sequential\n",
        "from keras.layers import Dense, Dropout, Flatten\n",
        "from keras.layers import Conv2D, MaxPooling2D, BatchNormalization\n",
        "from keras.callbacks import EarlyStopping, ModelCheckpoint\n",
        "import cv2\n",
        "from keras.applications import VGG16\n",
        "from tqdm import tqdm\n",
        "from keras import backend as K"
      ],
      "execution_count": null,
      "outputs": []
    },
    {
      "cell_type": "code",
      "metadata": {
        "_uuid": "d629ff2d2480ee46fbb7e2d37f6b5fab8052498a",
        "_cell_guid": "79c7e3d0-c299-4dcb-8224-4455121ee9b0",
        "trusted": true,
        "id": "-tMjpe2HE4cO",
        "colab_type": "code",
        "colab": {},
        "outputId": "02d0561e-dc18-4fb3-b316-c82b1e29dfb0"
      },
      "source": [
        "df_train = pd.read_csv('../input/planets-dataset/planet/planet/train_classes.csv')\n",
        "df_train.head()"
      ],
      "execution_count": null,
      "outputs": [
        {
          "output_type": "execute_result",
          "data": {
            "text/plain": [
              "  image_name                                       tags\n",
              "0    train_0                               haze primary\n",
              "1    train_1            agriculture clear primary water\n",
              "2    train_2                              clear primary\n",
              "3    train_3                              clear primary\n",
              "4    train_4  agriculture clear habitation primary road"
            ],
            "text/html": [
              "<div>\n",
              "<style scoped>\n",
              "    .dataframe tbody tr th:only-of-type {\n",
              "        vertical-align: middle;\n",
              "    }\n",
              "\n",
              "    .dataframe tbody tr th {\n",
              "        vertical-align: top;\n",
              "    }\n",
              "\n",
              "    .dataframe thead th {\n",
              "        text-align: right;\n",
              "    }\n",
              "</style>\n",
              "<table border=\"1\" class=\"dataframe\">\n",
              "  <thead>\n",
              "    <tr style=\"text-align: right;\">\n",
              "      <th></th>\n",
              "      <th>image_name</th>\n",
              "      <th>tags</th>\n",
              "    </tr>\n",
              "  </thead>\n",
              "  <tbody>\n",
              "    <tr>\n",
              "      <th>0</th>\n",
              "      <td>train_0</td>\n",
              "      <td>haze primary</td>\n",
              "    </tr>\n",
              "    <tr>\n",
              "      <th>1</th>\n",
              "      <td>train_1</td>\n",
              "      <td>agriculture clear primary water</td>\n",
              "    </tr>\n",
              "    <tr>\n",
              "      <th>2</th>\n",
              "      <td>train_2</td>\n",
              "      <td>clear primary</td>\n",
              "    </tr>\n",
              "    <tr>\n",
              "      <th>3</th>\n",
              "      <td>train_3</td>\n",
              "      <td>clear primary</td>\n",
              "    </tr>\n",
              "    <tr>\n",
              "      <th>4</th>\n",
              "      <td>train_4</td>\n",
              "      <td>agriculture clear habitation primary road</td>\n",
              "    </tr>\n",
              "  </tbody>\n",
              "</table>\n",
              "</div>"
            ]
          },
          "metadata": {
            "tags": []
          },
          "execution_count": 5
        }
      ]
    },
    {
      "cell_type": "code",
      "metadata": {
        "trusted": true,
        "id": "dGtDLnQDE4cg",
        "colab_type": "code",
        "colab": {}
      },
      "source": [
        "# F-beta Score\n",
        "\n",
        "def fbeta(y_true, y_pred, threshold_shift=0):\n",
        "    beta = 2\n",
        "    \n",
        "    # Just in case of hipstar activation at the final layer\n",
        "    y_pred = K.clip(y_pred, 0, 1)\n",
        "    \n",
        "    # Shifting the prediction threshold from .5 if needed\n",
        "    y_pred_bin = K.round(y_pred + threshold_shift)\n",
        "\n",
        "    tp = K.sum(K.round(y_true * y_pred_bin)) + K.epsilon()\n",
        "    fp = K.sum(K.round(K.clip(y_pred_bin - y_true, 0, 1)))\n",
        "    fn = K.sum(K.round(K.clip(y_true - y_pred, 0, 1)))\n",
        "\n",
        "    precision = tp / (tp + fp)\n",
        "    recall = tp / (tp + fn)\n",
        "\n",
        "    beta_squared = beta ** 2\n",
        "    return (beta_squared + 1) * (precision * recall) / (beta_squared * precision + recall + K.epsilon())"
      ],
      "execution_count": null,
      "outputs": []
    },
    {
      "cell_type": "code",
      "metadata": {
        "trusted": true,
        "id": "tD_0vg0_E4cx",
        "colab_type": "code",
        "colab": {}
      },
      "source": [
        "save_best_check_point = ModelCheckpoint(filepath='best_model.hdf5', monitor='val_fbeta', \\\n",
        "                                        mode='max', save_best_only=True, save_weights_only=True)"
      ],
      "execution_count": null,
      "outputs": []
    },
    {
      "cell_type": "code",
      "metadata": {
        "trusted": true,
        "id": "HgCXgOmcE4dC",
        "colab_type": "code",
        "colab": {}
      },
      "source": [
        "train_jpg = '../input/planets-dataset/planet/planet/train-jpg'"
      ],
      "execution_count": null,
      "outputs": []
    },
    {
      "cell_type": "code",
      "metadata": {
        "trusted": true,
        "id": "q_uC5PnhE4dV",
        "colab_type": "code",
        "colab": {},
        "outputId": "fbe07052-feaa-48d3-d73e-cb95bc670a87"
      },
      "source": [
        "# creating modified DataFrame to implement 'flow_from_dataframe' processing\n",
        "\n",
        "changed_df = df_train.copy()\n",
        "changed_df['image_path'] = train_jpg + '/' + changed_df['image_name'] +\".jpg\" \n",
        "changed_df.head()"
      ],
      "execution_count": null,
      "outputs": [
        {
          "output_type": "execute_result",
          "data": {
            "text/plain": [
              "  image_name                                       tags  \\\n",
              "0    train_0                               haze primary   \n",
              "1    train_1            agriculture clear primary water   \n",
              "2    train_2                              clear primary   \n",
              "3    train_3                              clear primary   \n",
              "4    train_4  agriculture clear habitation primary road   \n",
              "\n",
              "                                          image_path  \n",
              "0  ../input/planets-dataset/planet/planet/train-j...  \n",
              "1  ../input/planets-dataset/planet/planet/train-j...  \n",
              "2  ../input/planets-dataset/planet/planet/train-j...  \n",
              "3  ../input/planets-dataset/planet/planet/train-j...  \n",
              "4  ../input/planets-dataset/planet/planet/train-j...  "
            ],
            "text/html": [
              "<div>\n",
              "<style scoped>\n",
              "    .dataframe tbody tr th:only-of-type {\n",
              "        vertical-align: middle;\n",
              "    }\n",
              "\n",
              "    .dataframe tbody tr th {\n",
              "        vertical-align: top;\n",
              "    }\n",
              "\n",
              "    .dataframe thead th {\n",
              "        text-align: right;\n",
              "    }\n",
              "</style>\n",
              "<table border=\"1\" class=\"dataframe\">\n",
              "  <thead>\n",
              "    <tr style=\"text-align: right;\">\n",
              "      <th></th>\n",
              "      <th>image_name</th>\n",
              "      <th>tags</th>\n",
              "      <th>image_path</th>\n",
              "    </tr>\n",
              "  </thead>\n",
              "  <tbody>\n",
              "    <tr>\n",
              "      <th>0</th>\n",
              "      <td>train_0</td>\n",
              "      <td>haze primary</td>\n",
              "      <td>../input/planets-dataset/planet/planet/train-j...</td>\n",
              "    </tr>\n",
              "    <tr>\n",
              "      <th>1</th>\n",
              "      <td>train_1</td>\n",
              "      <td>agriculture clear primary water</td>\n",
              "      <td>../input/planets-dataset/planet/planet/train-j...</td>\n",
              "    </tr>\n",
              "    <tr>\n",
              "      <th>2</th>\n",
              "      <td>train_2</td>\n",
              "      <td>clear primary</td>\n",
              "      <td>../input/planets-dataset/planet/planet/train-j...</td>\n",
              "    </tr>\n",
              "    <tr>\n",
              "      <th>3</th>\n",
              "      <td>train_3</td>\n",
              "      <td>clear primary</td>\n",
              "      <td>../input/planets-dataset/planet/planet/train-j...</td>\n",
              "    </tr>\n",
              "    <tr>\n",
              "      <th>4</th>\n",
              "      <td>train_4</td>\n",
              "      <td>agriculture clear habitation primary road</td>\n",
              "      <td>../input/planets-dataset/planet/planet/train-j...</td>\n",
              "    </tr>\n",
              "  </tbody>\n",
              "</table>\n",
              "</div>"
            ]
          },
          "metadata": {
            "tags": []
          },
          "execution_count": 9
        }
      ]
    },
    {
      "cell_type": "code",
      "metadata": {
        "trusted": true,
        "id": "KO9CXVSUE4dm",
        "colab_type": "code",
        "colab": {},
        "outputId": "0d7f9b25-dafc-4b1d-9678-81c070ed10d0"
      },
      "source": [
        "# create a mapping of tags to integers given the loaded mapping file\n",
        "\n",
        "def create_tag_mapping(df_train):\n",
        "    # create a set of all known tags\n",
        "    labels = set()\n",
        "    for i in range(len(df_train)):\n",
        "        # convert spaced separated tags into an array of tags\n",
        "        tags = df_train['tags'][i].split(' ')\n",
        "        # add tags to the set of known labels\n",
        "        labels.update(tags)\n",
        "        \n",
        "    # convert set of labels to a list to list\n",
        "    labels = list(labels)\n",
        "    # order set alphabetically\n",
        "    labels.sort()\n",
        "    # dict that maps labels to integers, and the reverse\n",
        "    labels_map = {labels[i]:i for i in range(len(labels))}\n",
        "    inv_labels_map = {i:labels[i] for i in range(len(labels))}\n",
        "    return labels_map, inv_labels_map\n",
        "\n",
        "# create a mapping of tags to integers\n",
        "mapping, inv_mapping = create_tag_mapping(df_train)\n",
        "print(len(mapping))\n",
        "print(mapping)"
      ],
      "execution_count": null,
      "outputs": [
        {
          "output_type": "stream",
          "text": [
            "17\n",
            "{'agriculture': 0, 'artisinal_mine': 1, 'bare_ground': 2, 'blooming': 3, 'blow_down': 4, 'clear': 5, 'cloudy': 6, 'conventional_mine': 7, 'cultivation': 8, 'habitation': 9, 'haze': 10, 'partly_cloudy': 11, 'primary': 12, 'road': 13, 'selective_logging': 14, 'slash_burn': 15, 'water': 16}\n"
          ],
          "name": "stdout"
        }
      ]
    },
    {
      "cell_type": "code",
      "metadata": {
        "trusted": true,
        "id": "C7vYFUz8E4d2",
        "colab_type": "code",
        "colab": {},
        "outputId": "4573f39d-d6f4-4e07-b923-50cc7555b0d5"
      },
      "source": [
        "# OneHot encode the tags\n",
        "for label in mapping.keys():\n",
        "    changed_df[label] = changed_df['tags'].apply(lambda x:1 if label in x.split(' ') else 0)\n",
        "changed_df.head()"
      ],
      "execution_count": null,
      "outputs": [
        {
          "output_type": "execute_result",
          "data": {
            "text/plain": [
              "  image_name                                       tags  \\\n",
              "0    train_0                               haze primary   \n",
              "1    train_1            agriculture clear primary water   \n",
              "2    train_2                              clear primary   \n",
              "3    train_3                              clear primary   \n",
              "4    train_4  agriculture clear habitation primary road   \n",
              "\n",
              "                                          image_path  agriculture  \\\n",
              "0  ../input/planets-dataset/planet/planet/train-j...            0   \n",
              "1  ../input/planets-dataset/planet/planet/train-j...            1   \n",
              "2  ../input/planets-dataset/planet/planet/train-j...            0   \n",
              "3  ../input/planets-dataset/planet/planet/train-j...            0   \n",
              "4  ../input/planets-dataset/planet/planet/train-j...            1   \n",
              "\n",
              "   artisinal_mine  bare_ground  blooming  blow_down  clear  cloudy  \\\n",
              "0               0            0         0          0      0       0   \n",
              "1               0            0         0          0      1       0   \n",
              "2               0            0         0          0      1       0   \n",
              "3               0            0         0          0      1       0   \n",
              "4               0            0         0          0      1       0   \n",
              "\n",
              "   conventional_mine  cultivation  habitation  haze  partly_cloudy  primary  \\\n",
              "0                  0            0           0     1              0        1   \n",
              "1                  0            0           0     0              0        1   \n",
              "2                  0            0           0     0              0        1   \n",
              "3                  0            0           0     0              0        1   \n",
              "4                  0            0           1     0              0        1   \n",
              "\n",
              "   road  selective_logging  slash_burn  water  \n",
              "0     0                  0           0      0  \n",
              "1     0                  0           0      1  \n",
              "2     0                  0           0      0  \n",
              "3     0                  0           0      0  \n",
              "4     1                  0           0      0  "
            ],
            "text/html": [
              "<div>\n",
              "<style scoped>\n",
              "    .dataframe tbody tr th:only-of-type {\n",
              "        vertical-align: middle;\n",
              "    }\n",
              "\n",
              "    .dataframe tbody tr th {\n",
              "        vertical-align: top;\n",
              "    }\n",
              "\n",
              "    .dataframe thead th {\n",
              "        text-align: right;\n",
              "    }\n",
              "</style>\n",
              "<table border=\"1\" class=\"dataframe\">\n",
              "  <thead>\n",
              "    <tr style=\"text-align: right;\">\n",
              "      <th></th>\n",
              "      <th>image_name</th>\n",
              "      <th>tags</th>\n",
              "      <th>image_path</th>\n",
              "      <th>agriculture</th>\n",
              "      <th>artisinal_mine</th>\n",
              "      <th>bare_ground</th>\n",
              "      <th>blooming</th>\n",
              "      <th>blow_down</th>\n",
              "      <th>clear</th>\n",
              "      <th>cloudy</th>\n",
              "      <th>conventional_mine</th>\n",
              "      <th>cultivation</th>\n",
              "      <th>habitation</th>\n",
              "      <th>haze</th>\n",
              "      <th>partly_cloudy</th>\n",
              "      <th>primary</th>\n",
              "      <th>road</th>\n",
              "      <th>selective_logging</th>\n",
              "      <th>slash_burn</th>\n",
              "      <th>water</th>\n",
              "    </tr>\n",
              "  </thead>\n",
              "  <tbody>\n",
              "    <tr>\n",
              "      <th>0</th>\n",
              "      <td>train_0</td>\n",
              "      <td>haze primary</td>\n",
              "      <td>../input/planets-dataset/planet/planet/train-j...</td>\n",
              "      <td>0</td>\n",
              "      <td>0</td>\n",
              "      <td>0</td>\n",
              "      <td>0</td>\n",
              "      <td>0</td>\n",
              "      <td>0</td>\n",
              "      <td>0</td>\n",
              "      <td>0</td>\n",
              "      <td>0</td>\n",
              "      <td>0</td>\n",
              "      <td>1</td>\n",
              "      <td>0</td>\n",
              "      <td>1</td>\n",
              "      <td>0</td>\n",
              "      <td>0</td>\n",
              "      <td>0</td>\n",
              "      <td>0</td>\n",
              "    </tr>\n",
              "    <tr>\n",
              "      <th>1</th>\n",
              "      <td>train_1</td>\n",
              "      <td>agriculture clear primary water</td>\n",
              "      <td>../input/planets-dataset/planet/planet/train-j...</td>\n",
              "      <td>1</td>\n",
              "      <td>0</td>\n",
              "      <td>0</td>\n",
              "      <td>0</td>\n",
              "      <td>0</td>\n",
              "      <td>1</td>\n",
              "      <td>0</td>\n",
              "      <td>0</td>\n",
              "      <td>0</td>\n",
              "      <td>0</td>\n",
              "      <td>0</td>\n",
              "      <td>0</td>\n",
              "      <td>1</td>\n",
              "      <td>0</td>\n",
              "      <td>0</td>\n",
              "      <td>0</td>\n",
              "      <td>1</td>\n",
              "    </tr>\n",
              "    <tr>\n",
              "      <th>2</th>\n",
              "      <td>train_2</td>\n",
              "      <td>clear primary</td>\n",
              "      <td>../input/planets-dataset/planet/planet/train-j...</td>\n",
              "      <td>0</td>\n",
              "      <td>0</td>\n",
              "      <td>0</td>\n",
              "      <td>0</td>\n",
              "      <td>0</td>\n",
              "      <td>1</td>\n",
              "      <td>0</td>\n",
              "      <td>0</td>\n",
              "      <td>0</td>\n",
              "      <td>0</td>\n",
              "      <td>0</td>\n",
              "      <td>0</td>\n",
              "      <td>1</td>\n",
              "      <td>0</td>\n",
              "      <td>0</td>\n",
              "      <td>0</td>\n",
              "      <td>0</td>\n",
              "    </tr>\n",
              "    <tr>\n",
              "      <th>3</th>\n",
              "      <td>train_3</td>\n",
              "      <td>clear primary</td>\n",
              "      <td>../input/planets-dataset/planet/planet/train-j...</td>\n",
              "      <td>0</td>\n",
              "      <td>0</td>\n",
              "      <td>0</td>\n",
              "      <td>0</td>\n",
              "      <td>0</td>\n",
              "      <td>1</td>\n",
              "      <td>0</td>\n",
              "      <td>0</td>\n",
              "      <td>0</td>\n",
              "      <td>0</td>\n",
              "      <td>0</td>\n",
              "      <td>0</td>\n",
              "      <td>1</td>\n",
              "      <td>0</td>\n",
              "      <td>0</td>\n",
              "      <td>0</td>\n",
              "      <td>0</td>\n",
              "    </tr>\n",
              "    <tr>\n",
              "      <th>4</th>\n",
              "      <td>train_4</td>\n",
              "      <td>agriculture clear habitation primary road</td>\n",
              "      <td>../input/planets-dataset/planet/planet/train-j...</td>\n",
              "      <td>1</td>\n",
              "      <td>0</td>\n",
              "      <td>0</td>\n",
              "      <td>0</td>\n",
              "      <td>0</td>\n",
              "      <td>1</td>\n",
              "      <td>0</td>\n",
              "      <td>0</td>\n",
              "      <td>0</td>\n",
              "      <td>1</td>\n",
              "      <td>0</td>\n",
              "      <td>0</td>\n",
              "      <td>1</td>\n",
              "      <td>1</td>\n",
              "      <td>0</td>\n",
              "      <td>0</td>\n",
              "      <td>0</td>\n",
              "    </tr>\n",
              "  </tbody>\n",
              "</table>\n",
              "</div>"
            ]
          },
          "metadata": {
            "tags": []
          },
          "execution_count": 11
        }
      ]
    },
    {
      "cell_type": "code",
      "metadata": {
        "trusted": true,
        "id": "MLiyjYcyE4eH",
        "colab_type": "code",
        "colab": {},
        "outputId": "dc8a91cc-ca26-40e0-863a-ed6d7a43b1f9"
      },
      "source": [
        "# flow from DataFrame\n",
        "\n",
        "from keras_preprocessing.image import ImageDataGenerator\n",
        "\n",
        "train_datagen = ImageDataGenerator(rescale=1./255,\n",
        "                                   shear_range=0.2,\n",
        "                                   zoom_range=0.2,\n",
        "                                   rotation_range=180,\n",
        "                                   horizontal_flip=True, \n",
        "                                   vertical_flip=True,\n",
        "                                   validation_split=0.2,\n",
        "                                   fill_mode = 'reflect' )\n",
        "\n",
        "val_data_gen = ImageDataGenerator(rescale= 1./255, validation_split=0.2)\n",
        "\n",
        "train_data =train_datagen.flow_from_dataframe(dataframe=changed_df,\n",
        "                                              x_col=\"image_path\",\n",
        "                                              y_col=mapping.keys(),\n",
        "                                              seed=231,\n",
        "                                              shuffle=True,\n",
        "                                              class_mode=\"raw\",\n",
        "                                              batch_size=128,\n",
        "                                              target_size=(128,128),\n",
        "                                              subset=\"training\")\n",
        "\n",
        "validation_data =train_datagen.flow_from_dataframe(dataframe=changed_df,\n",
        "                                                   x_col=\"image_path\",\n",
        "                                                   y_col=mapping.keys(),\n",
        "                                                   seed=231,\n",
        "                                                   shuffle=True,\n",
        "                                                   class_mode=\"raw\",\n",
        "                                                   batch_size=128,\n",
        "                                                   target_size=(128,128),\n",
        "                                                   subset=\"validation\")"
      ],
      "execution_count": null,
      "outputs": [
        {
          "output_type": "stream",
          "text": [
            "Found 32384 validated image filenames.\n",
            "Found 8095 validated image filenames.\n"
          ],
          "name": "stdout"
        }
      ]
    },
    {
      "cell_type": "code",
      "metadata": {
        "trusted": true,
        "id": "nr6jBZmJE4eW",
        "colab_type": "code",
        "colab": {}
      },
      "source": [
        "# setting step size for training and validation image data\n",
        "step_train_size = int(np.ceil(train_data.samples / train_data.batch_size))\n",
        "step_val_size = int(np.ceil(validation_data.samples / train_data.batch_size))"
      ],
      "execution_count": null,
      "outputs": []
    },
    {
      "cell_type": "code",
      "metadata": {
        "trusted": true,
        "id": "sUMVR70NE4ej",
        "colab_type": "code",
        "colab": {}
      },
      "source": [
        "import matplotlib.pyplot as plt\n",
        "def learning_curve(model_fit, key='acc', ylim=(0.8, 1.01)):\n",
        "    plt.figure(figsize=(12,6))\n",
        "    plt.plot(model_fit.history[key])\n",
        "    plt.plot(model_fit.history['val_' + key])\n",
        "    plt.title('Learning Curve')\n",
        "    plt.ylabel(key.title())\n",
        "    plt.xlabel('Epoch')\n",
        "    plt.ylim(ylim)\n",
        "    plt.legend(['train', 'validation'], loc='best')\n",
        "    plt.show()"
      ],
      "execution_count": null,
      "outputs": []
    },
    {
      "cell_type": "code",
      "metadata": {
        "trusted": true,
        "id": "ChYau4pfE4e5",
        "colab_type": "code",
        "colab": {},
        "outputId": "7f8ee46d-4baa-4d28-81f6-5a109b3898b9"
      },
      "source": [
        "# VGG Model Architecture\n",
        "\n",
        "from keras.optimizers import Adam\n",
        "optimizer = Adam(0.003, decay=0.0005)\n",
        "base_model = VGG16(weights='imagenet', include_top=False, input_shape=(128, 128, 3))\n",
        "\n",
        "for layer in base_model.layers:\n",
        "    layer.trainable = False\n",
        "    \n",
        "    VGG_model = Sequential([\n",
        "    base_model,\n",
        " \n",
        "    Flatten(), \n",
        "        \n",
        "    Dense(128, activation='relu'),\n",
        "    Dropout(0.2),\n",
        "    Dense(17, activation='sigmoid')  \n",
        "])\n",
        "\n",
        "VGG_model.compile(loss='binary_crossentropy', optimizer=optimizer, metrics=[fbeta])\n",
        "VGG_model.summary()"
      ],
      "execution_count": null,
      "outputs": [
        {
          "output_type": "stream",
          "text": [
            "Downloading data from https://storage.googleapis.com/tensorflow/keras-applications/vgg16/vgg16_weights_tf_dim_ordering_tf_kernels_notop.h5\n",
            "58892288/58889256 [==============================] - 0s 0us/step\n",
            "Model: \"sequential_18\"\n",
            "_________________________________________________________________\n",
            "Layer (type)                 Output Shape              Param #   \n",
            "=================================================================\n",
            "vgg16 (Functional)           (None, 4, 4, 512)         14714688  \n",
            "_________________________________________________________________\n",
            "flatten_18 (Flatten)         (None, 8192)              0         \n",
            "_________________________________________________________________\n",
            "dense_36 (Dense)             (None, 128)               1048704   \n",
            "_________________________________________________________________\n",
            "dropout_18 (Dropout)         (None, 128)               0         \n",
            "_________________________________________________________________\n",
            "dense_37 (Dense)             (None, 17)                2193      \n",
            "=================================================================\n",
            "Total params: 15,765,585\n",
            "Trainable params: 1,050,897\n",
            "Non-trainable params: 14,714,688\n",
            "_________________________________________________________________\n"
          ],
          "name": "stdout"
        }
      ]
    },
    {
      "cell_type": "code",
      "metadata": {
        "trusted": true,
        "id": "GUqZeCrfE4fI",
        "colab_type": "code",
        "colab": {},
        "outputId": "ccca184e-9309-4e12-9ae1-a42459f6b93a"
      },
      "source": [
        "model = VGG_model.fit(train_data,\n",
        "                             steps_per_epoch=step_train_size,\n",
        "                             validation_data=validation_data,\n",
        "                             validation_steps=step_val_size,\n",
        "                             batch_size=128,\n",
        "                             epochs=5,\n",
        "                             verbose=1,\n",
        "                             callbacks=[save_best_check_point]\n",
        "                            )"
      ],
      "execution_count": null,
      "outputs": [
        {
          "output_type": "stream",
          "text": [
            "Epoch 1/5\n",
            "253/253 [==============================] - 295s 1s/step - loss: 0.1991 - fbeta: 0.7231 - val_loss: 0.1577 - val_fbeta: 0.7718\n",
            "Epoch 2/5\n",
            "253/253 [==============================] - 270s 1s/step - loss: 0.1613 - fbeta: 0.7663 - val_loss: 0.1486 - val_fbeta: 0.7763\n",
            "Epoch 3/5\n",
            "253/253 [==============================] - 272s 1s/step - loss: 0.1547 - fbeta: 0.7747 - val_loss: 0.1431 - val_fbeta: 0.7864\n",
            "Epoch 4/5\n",
            "253/253 [==============================] - 272s 1s/step - loss: 0.1507 - fbeta: 0.7834 - val_loss: 0.1434 - val_fbeta: 0.7723\n",
            "Epoch 5/5\n",
            "253/253 [==============================] - 272s 1s/step - loss: 0.1488 - fbeta: 0.7865 - val_loss: 0.1454 - val_fbeta: 0.8013\n"
          ],
          "name": "stdout"
        }
      ]
    },
    {
      "cell_type": "code",
      "metadata": {
        "trusted": true,
        "id": "f9WwK6hfE4fX",
        "colab_type": "code",
        "colab": {},
        "outputId": "fa811a8d-558c-4528-d1a0-9e8517d8853e"
      },
      "source": [
        "learning_curve(model, key='fbeta', ylim=(0, 1))"
      ],
      "execution_count": null,
      "outputs": [
        {
          "output_type": "display_data",
          "data": {
            "text/plain": [
              "<Figure size 864x432 with 1 Axes>"
            ],
            "image/png": "[encoded data removed]"
          },
          "metadata": {
            "tags": [],
            "needs_background": "light"
          }
        }
      ]
    },
    {
      "cell_type": "code",
      "metadata": {
        "trusted": true,
        "id": "oykOBoVtE4fl",
        "colab_type": "code",
        "colab": {},
        "outputId": "ea0dd19b-6999-4858-bc70-4e57f50064f1"
      },
      "source": [
        "learning_curve(model, key='loss', ylim=(0, 1))"
      ],
      "execution_count": null,
      "outputs": [
        {
          "output_type": "display_data",
          "data": {
            "text/plain": [
              "<Figure size 864x432 with 1 Axes>"
            ],
            "image/png": "[encoded data removed]"
          },
          "metadata": {
            "tags": [],
            "needs_background": "light"
          }
        }
      ]
    },
    {
      "cell_type": "code",
      "metadata": {
        "trusted": true,
        "id": "hDc4piLFE4f0",
        "colab_type": "code",
        "colab": {},
        "outputId": "744b5d65-d878-4124-f84a-9a9bd46cbeb2"
      },
      "source": [
        "sample_submission_df = pd.read_csv('../input/planets-dataset/planet/planet/sample_submission.csv')\n",
        "sample_submission_df.head()"
      ],
      "execution_count": null,
      "outputs": [
        {
          "output_type": "execute_result",
          "data": {
            "text/plain": [
              "  image_name                                  tags\n",
              "0     test_0  primary clear agriculture road water\n",
              "1     test_1  primary clear agriculture road water\n",
              "2     test_2  primary clear agriculture road water\n",
              "3     test_3  primary clear agriculture road water\n",
              "4     test_4  primary clear agriculture road water"
            ],
            "text/html": [
              "<div>\n",
              "<style scoped>\n",
              "    .dataframe tbody tr th:only-of-type {\n",
              "        vertical-align: middle;\n",
              "    }\n",
              "\n",
              "    .dataframe tbody tr th {\n",
              "        vertical-align: top;\n",
              "    }\n",
              "\n",
              "    .dataframe thead th {\n",
              "        text-align: right;\n",
              "    }\n",
              "</style>\n",
              "<table border=\"1\" class=\"dataframe\">\n",
              "  <thead>\n",
              "    <tr style=\"text-align: right;\">\n",
              "      <th></th>\n",
              "      <th>image_name</th>\n",
              "      <th>tags</th>\n",
              "    </tr>\n",
              "  </thead>\n",
              "  <tbody>\n",
              "    <tr>\n",
              "      <th>0</th>\n",
              "      <td>test_0</td>\n",
              "      <td>primary clear agriculture road water</td>\n",
              "    </tr>\n",
              "    <tr>\n",
              "      <th>1</th>\n",
              "      <td>test_1</td>\n",
              "      <td>primary clear agriculture road water</td>\n",
              "    </tr>\n",
              "    <tr>\n",
              "      <th>2</th>\n",
              "      <td>test_2</td>\n",
              "      <td>primary clear agriculture road water</td>\n",
              "    </tr>\n",
              "    <tr>\n",
              "      <th>3</th>\n",
              "      <td>test_3</td>\n",
              "      <td>primary clear agriculture road water</td>\n",
              "    </tr>\n",
              "    <tr>\n",
              "      <th>4</th>\n",
              "      <td>test_4</td>\n",
              "      <td>primary clear agriculture road water</td>\n",
              "    </tr>\n",
              "  </tbody>\n",
              "</table>\n",
              "</div>"
            ]
          },
          "metadata": {
            "tags": []
          },
          "execution_count": 20
        }
      ]
    },
    {
      "cell_type": "code",
      "metadata": {
        "trusted": true,
        "id": "DVp-66YPE4gD",
        "colab_type": "code",
        "colab": {},
        "outputId": "b574f709-d418-433c-fb81-dc7de5261c70"
      },
      "source": [
        "# adding .jpg extension to 'image_name' in sample_submission data\n",
        "sample_submission = sample_submission_df.copy()\n",
        "sample_submission['image_name'] = sample_submission['image_name'].apply(lambda x: '{}.jpg'.format(x))\n",
        "sample_submission.head()"
      ],
      "execution_count": null,
      "outputs": [
        {
          "output_type": "execute_result",
          "data": {
            "text/plain": [
              "   image_name                                  tags\n",
              "0  test_0.jpg  primary clear agriculture road water\n",
              "1  test_1.jpg  primary clear agriculture road water\n",
              "2  test_2.jpg  primary clear agriculture road water\n",
              "3  test_3.jpg  primary clear agriculture road water\n",
              "4  test_4.jpg  primary clear agriculture road water"
            ],
            "text/html": [
              "<div>\n",
              "<style scoped>\n",
              "    .dataframe tbody tr th:only-of-type {\n",
              "        vertical-align: middle;\n",
              "    }\n",
              "\n",
              "    .dataframe tbody tr th {\n",
              "        vertical-align: top;\n",
              "    }\n",
              "\n",
              "    .dataframe thead th {\n",
              "        text-align: right;\n",
              "    }\n",
              "</style>\n",
              "<table border=\"1\" class=\"dataframe\">\n",
              "  <thead>\n",
              "    <tr style=\"text-align: right;\">\n",
              "      <th></th>\n",
              "      <th>image_name</th>\n",
              "      <th>tags</th>\n",
              "    </tr>\n",
              "  </thead>\n",
              "  <tbody>\n",
              "    <tr>\n",
              "      <th>0</th>\n",
              "      <td>test_0.jpg</td>\n",
              "      <td>primary clear agriculture road water</td>\n",
              "    </tr>\n",
              "    <tr>\n",
              "      <th>1</th>\n",
              "      <td>test_1.jpg</td>\n",
              "      <td>primary clear agriculture road water</td>\n",
              "    </tr>\n",
              "    <tr>\n",
              "      <th>2</th>\n",
              "      <td>test_2.jpg</td>\n",
              "      <td>primary clear agriculture road water</td>\n",
              "    </tr>\n",
              "    <tr>\n",
              "      <th>3</th>\n",
              "      <td>test_3.jpg</td>\n",
              "      <td>primary clear agriculture road water</td>\n",
              "    </tr>\n",
              "    <tr>\n",
              "      <th>4</th>\n",
              "      <td>test_4.jpg</td>\n",
              "      <td>primary clear agriculture road water</td>\n",
              "    </tr>\n",
              "  </tbody>\n",
              "</table>\n",
              "</div>"
            ]
          },
          "metadata": {
            "tags": []
          },
          "execution_count": 21
        }
      ]
    },
    {
      "cell_type": "code",
      "metadata": {
        "trusted": true,
        "id": "_UfWLoV8E4gV",
        "colab_type": "code",
        "colab": {},
        "outputId": "4b8d1c85-1322-4829-8d96-cbc8f3e256b9"
      },
      "source": [
        "# selecting the first 40669 'image_name'(s) from the submission_sample dataframe to generate image data from \n",
        "# test.jpg folder\n",
        "test1_df = sample_submission.iloc[:40669]['image_name'].reset_index().drop('index', axis=1)\n",
        "test1_df.head()"
      ],
      "execution_count": null,
      "outputs": [
        {
          "output_type": "execute_result",
          "data": {
            "text/plain": [
              "   image_name\n",
              "0  test_0.jpg\n",
              "1  test_1.jpg\n",
              "2  test_2.jpg\n",
              "3  test_3.jpg\n",
              "4  test_4.jpg"
            ],
            "text/html": [
              "<div>\n",
              "<style scoped>\n",
              "    .dataframe tbody tr th:only-of-type {\n",
              "        vertical-align: middle;\n",
              "    }\n",
              "\n",
              "    .dataframe tbody tr th {\n",
              "        vertical-align: top;\n",
              "    }\n",
              "\n",
              "    .dataframe thead th {\n",
              "        text-align: right;\n",
              "    }\n",
              "</style>\n",
              "<table border=\"1\" class=\"dataframe\">\n",
              "  <thead>\n",
              "    <tr style=\"text-align: right;\">\n",
              "      <th></th>\n",
              "      <th>image_name</th>\n",
              "    </tr>\n",
              "  </thead>\n",
              "  <tbody>\n",
              "    <tr>\n",
              "      <th>0</th>\n",
              "      <td>test_0.jpg</td>\n",
              "    </tr>\n",
              "    <tr>\n",
              "      <th>1</th>\n",
              "      <td>test_1.jpg</td>\n",
              "    </tr>\n",
              "    <tr>\n",
              "      <th>2</th>\n",
              "      <td>test_2.jpg</td>\n",
              "    </tr>\n",
              "    <tr>\n",
              "      <th>3</th>\n",
              "      <td>test_3.jpg</td>\n",
              "    </tr>\n",
              "    <tr>\n",
              "      <th>4</th>\n",
              "      <td>test_4.jpg</td>\n",
              "    </tr>\n",
              "  </tbody>\n",
              "</table>\n",
              "</div>"
            ]
          },
          "metadata": {
            "tags": []
          },
          "execution_count": 24
        }
      ]
    },
    {
      "cell_type": "code",
      "metadata": {
        "trusted": true,
        "id": "jmENXDUoE4gk",
        "colab_type": "code",
        "colab": {},
        "outputId": "29af8016-9bb8-439b-eea1-fde1fc44a822"
      },
      "source": [
        "# initializing an image data generator object for the first 40669 images in the sample submission dataframe\n",
        "test_image_gen1 = ImageDataGenerator(rescale=1/255)\n",
        "\n",
        "# generating the image data for the first 40669 images in the sample submission dataframe\n",
        "test_gen1 = test_image_gen1.flow_from_dataframe(dataframe=test1_df, \\\n",
        "            directory='../input/planets-dataset/planet/planet/test-jpg/', x_col='image_name', y_col=None, \\\n",
        "            batch_size=128, shuffle=False, class_mode=None, target_size=(128, 128))\n",
        "\n",
        "# setting the step size for the testing set for the first 40669 images in the sample submission dataframe\n",
        "step_test_size1 = int(np.ceil(test_gen1.samples / test_gen1.batch_size))"
      ],
      "execution_count": null,
      "outputs": [
        {
          "output_type": "stream",
          "text": [
            "Found 40669 validated image filenames.\n"
          ],
          "name": "stdout"
        }
      ]
    },
    {
      "cell_type": "code",
      "metadata": {
        "trusted": true,
        "id": "hYp9FHW0E4gx",
        "colab_type": "code",
        "colab": {}
      },
      "source": [
        "# VGG model for test set\n",
        "from keras.optimizers import Adam\n",
        "optimizer = Adam(0.003, decay=0.0005)\n",
        "base_model = VGG16(weights='imagenet', include_top=False, input_shape=(128, 128, 3))\n",
        "\n",
        "for layer in base_model.layers:\n",
        "    layer.trainable = False\n",
        "    \n",
        "    test_model = Sequential([\n",
        "    base_model,\n",
        " \n",
        "    Flatten(), \n",
        "        \n",
        "    Dense(128, activation='relu'),\n",
        "    Dropout(0.2),\n",
        "    Dense(17, activation='sigmoid')  \n",
        "])\n",
        "\n",
        "test_model.compile(loss='binary_crossentropy', optimizer=optimizer, metrics=[fbeta])\n",
        "\n",
        "#loading in the weights of the trained VGG model\n",
        "test_model.load_weights('best_model.hdf5')"
      ],
      "execution_count": null,
      "outputs": []
    },
    {
      "cell_type": "code",
      "metadata": {
        "trusted": true,
        "id": "mNb7JET7E4g-",
        "colab_type": "code",
        "colab": {},
        "outputId": "46174624-8223-44c0-ed72-f6b08718c15f"
      },
      "source": [
        "test_gen1.reset() # reseting the generator to be sure of avoiding shuffling\n",
        "pred1 = test_model.predict(test_gen1, steps=step_test_size1, verbose=1) # predicts the first 40669 images in the \n",
        "                                                                    # sample submission dataframe"
      ],
      "execution_count": null,
      "outputs": [
        {
          "output_type": "stream",
          "text": [
            "318/318 [==============================] - 162s 510ms/step\n"
          ],
          "name": "stdout"
        }
      ]
    },
    {
      "cell_type": "code",
      "metadata": {
        "trusted": true,
        "id": "wc0LQHQrE4hL",
        "colab_type": "code",
        "colab": {},
        "outputId": "971e36e1-5c0c-4a83-ec2e-606d2e0b285d"
      },
      "source": [
        "unique_labels = set()\n",
        "def append_labels(tags):\n",
        "    for tag in tags.split():\n",
        "        unique_labels.add(tag)\n",
        "\n",
        "df_train = df_train.copy()\n",
        "df_train['tags'].apply(append_labels)\n",
        "unique_labels = list(unique_labels)\n",
        "unique_labels.sort()\n",
        "print(unique_labels)"
      ],
      "execution_count": null,
      "outputs": [
        {
          "output_type": "stream",
          "text": [
            "['agriculture', 'artisinal_mine', 'bare_ground', 'blooming', 'blow_down', 'clear', 'cloudy', 'conventional_mine', 'cultivation', 'habitation', 'haze', 'partly_cloudy', 'primary', 'road', 'selective_logging', 'slash_burn', 'water']\n"
          ],
          "name": "stdout"
        }
      ]
    },
    {
      "cell_type": "code",
      "metadata": {
        "trusted": true,
        "id": "hu8igJ4IE4hZ",
        "colab_type": "code",
        "colab": {},
        "outputId": "0d899db8-0ff6-4745-81d8-8d778c938866"
      },
      "source": [
        "test_file_names1 = test_gen1.filenames # storing the filenames (images names) of the first 40669 images names in \n",
        "                                       # the sample submission dataframe as ordered in the prediction as a \n",
        "                                       # variable\n",
        "        \n",
        "# converting the predictions of the first 40669 to tag names\n",
        "pred_tags1 = pd.DataFrame(pred1)\n",
        "pred_tags1 = pred_tags1.apply(lambda x: ' '.join(np.array(unique_labels)[x > 0.5]), axis=1)\n",
        "\n",
        "# converting the predictions of the first 40669 to a dataframe\n",
        "result1 = pd.DataFrame({'image_name': test_file_names1, 'tags': pred_tags1})\n",
        "result1.head()"
      ],
      "execution_count": null,
      "outputs": [
        {
          "output_type": "execute_result",
          "data": {
            "text/plain": [
              "   image_name                   tags\n",
              "0  test_0.jpg          clear primary\n",
              "1  test_1.jpg          clear primary\n",
              "2  test_2.jpg  partly_cloudy primary\n",
              "3  test_3.jpg          clear primary\n",
              "4  test_4.jpg  partly_cloudy primary"
            ],
            "text/html": [
              "<div>\n",
              "<style scoped>\n",
              "    .dataframe tbody tr th:only-of-type {\n",
              "        vertical-align: middle;\n",
              "    }\n",
              "\n",
              "    .dataframe tbody tr th {\n",
              "        vertical-align: top;\n",
              "    }\n",
              "\n",
              "    .dataframe thead th {\n",
              "        text-align: right;\n",
              "    }\n",
              "</style>\n",
              "<table border=\"1\" class=\"dataframe\">\n",
              "  <thead>\n",
              "    <tr style=\"text-align: right;\">\n",
              "      <th></th>\n",
              "      <th>image_name</th>\n",
              "      <th>tags</th>\n",
              "    </tr>\n",
              "  </thead>\n",
              "  <tbody>\n",
              "    <tr>\n",
              "      <th>0</th>\n",
              "      <td>test_0.jpg</td>\n",
              "      <td>clear primary</td>\n",
              "    </tr>\n",
              "    <tr>\n",
              "      <th>1</th>\n",
              "      <td>test_1.jpg</td>\n",
              "      <td>clear primary</td>\n",
              "    </tr>\n",
              "    <tr>\n",
              "      <th>2</th>\n",
              "      <td>test_2.jpg</td>\n",
              "      <td>partly_cloudy primary</td>\n",
              "    </tr>\n",
              "    <tr>\n",
              "      <th>3</th>\n",
              "      <td>test_3.jpg</td>\n",
              "      <td>clear primary</td>\n",
              "    </tr>\n",
              "    <tr>\n",
              "      <th>4</th>\n",
              "      <td>test_4.jpg</td>\n",
              "      <td>partly_cloudy primary</td>\n",
              "    </tr>\n",
              "  </tbody>\n",
              "</table>\n",
              "</div>"
            ]
          },
          "metadata": {
            "tags": []
          },
          "execution_count": 29
        }
      ]
    },
    {
      "cell_type": "code",
      "metadata": {
        "trusted": true,
        "id": "-awIuLn5E4hp",
        "colab_type": "code",
        "colab": {},
        "outputId": "26c08d59-912e-41c0-d3c4-d5df6d9cea22"
      },
      "source": [
        "# selecting the remaining 'image_name'(s) from the submission_sample dataframe to generate image data from \n",
        "# test-additional.jpg folder\n",
        "test2_df = sample_submission.iloc[40669:]['image_name'].reset_index().drop('index', axis=1)\n",
        "test2_df.head()"
      ],
      "execution_count": null,
      "outputs": [
        {
          "output_type": "execute_result",
          "data": {
            "text/plain": [
              "      image_name\n",
              "0     file_0.jpg\n",
              "1     file_1.jpg\n",
              "2    file_10.jpg\n",
              "3   file_100.jpg\n",
              "4  file_1000.jpg"
            ],
            "text/html": [
              "<div>\n",
              "<style scoped>\n",
              "    .dataframe tbody tr th:only-of-type {\n",
              "        vertical-align: middle;\n",
              "    }\n",
              "\n",
              "    .dataframe tbody tr th {\n",
              "        vertical-align: top;\n",
              "    }\n",
              "\n",
              "    .dataframe thead th {\n",
              "        text-align: right;\n",
              "    }\n",
              "</style>\n",
              "<table border=\"1\" class=\"dataframe\">\n",
              "  <thead>\n",
              "    <tr style=\"text-align: right;\">\n",
              "      <th></th>\n",
              "      <th>image_name</th>\n",
              "    </tr>\n",
              "  </thead>\n",
              "  <tbody>\n",
              "    <tr>\n",
              "      <th>0</th>\n",
              "      <td>file_0.jpg</td>\n",
              "    </tr>\n",
              "    <tr>\n",
              "      <th>1</th>\n",
              "      <td>file_1.jpg</td>\n",
              "    </tr>\n",
              "    <tr>\n",
              "      <th>2</th>\n",
              "      <td>file_10.jpg</td>\n",
              "    </tr>\n",
              "    <tr>\n",
              "      <th>3</th>\n",
              "      <td>file_100.jpg</td>\n",
              "    </tr>\n",
              "    <tr>\n",
              "      <th>4</th>\n",
              "      <td>file_1000.jpg</td>\n",
              "    </tr>\n",
              "  </tbody>\n",
              "</table>\n",
              "</div>"
            ]
          },
          "metadata": {
            "tags": []
          },
          "execution_count": 30
        }
      ]
    },
    {
      "cell_type": "code",
      "metadata": {
        "trusted": true,
        "id": "K2I2or65E4h3",
        "colab_type": "code",
        "colab": {},
        "outputId": "3e94466c-cb49-4b28-f6c9-a0f58cf19210"
      },
      "source": [
        "# initializing an image data generator object for the remaining images in the sample submission dataframe\n",
        "test_image_gen2 = ImageDataGenerator(rescale=1/255)\n",
        "\n",
        "# generating the image data for the remaining images in the sample submission dataframe\n",
        "test_gen2 = test_image_gen2.flow_from_dataframe(dataframe=test2_df, \\\n",
        "            directory='../input/planets-dataset/test-jpg-additional/test-jpg-additional/', x_col='image_name', \\\n",
        "            y_col=None, batch_size=128, shuffle=False, class_mode=None, target_size=(128, 128))\n",
        "\n",
        "# setting the step size for the testing set for the remaining images in the sample submission dataframe\n",
        "step_test_size2 = int(np.ceil(test_gen2.samples / test_gen2.batch_size))"
      ],
      "execution_count": null,
      "outputs": [
        {
          "output_type": "stream",
          "text": [
            "Found 20522 validated image filenames.\n"
          ],
          "name": "stdout"
        }
      ]
    },
    {
      "cell_type": "code",
      "metadata": {
        "trusted": true,
        "id": "T0lofjDKE4iG",
        "colab_type": "code",
        "colab": {},
        "outputId": "308b6531-0d3a-489c-872a-131d1e1f4ca6"
      },
      "source": [
        "test_gen2.reset() # reseting the generator to be sure of avoiding shuffling\n",
        "pred2 = test_model.predict(test_gen2, steps=step_test_size2, verbose=1) # predicts the remaining images in the \n",
        "                                                                    # sample submission dataframe"
      ],
      "execution_count": null,
      "outputs": [
        {
          "output_type": "stream",
          "text": [
            "161/161 [==============================] - 84s 519ms/step\n"
          ],
          "name": "stdout"
        }
      ]
    },
    {
      "cell_type": "code",
      "metadata": {
        "trusted": true,
        "id": "fpMduSYdE4iV",
        "colab_type": "code",
        "colab": {},
        "outputId": "ea7c75e8-1807-4b34-d5c6-2c787cfcdc9d"
      },
      "source": [
        "test_file_names2 = test_gen2.filenames # storing the filenames (images names) of the remaining images names in \n",
        "                                       # the sample submission dataframe as ordered in the prediction as a \n",
        "                                       # variable\n",
        "        \n",
        "# converting the predictions of the remaining images to tag names\n",
        "pred_tags2 = pd.DataFrame(pred2)\n",
        "pred_tags2 = pred_tags2.apply(lambda x: ' '.join(np.array(unique_labels)[x > 0.5]), axis=1)\n",
        "\n",
        "# converting the predictions of the remaining to a dataframe\n",
        "result2 = pd.DataFrame({'image_name': test_file_names2, 'tags': pred_tags2})\n",
        "result2.head()"
      ],
      "execution_count": null,
      "outputs": [
        {
          "output_type": "execute_result",
          "data": {
            "text/plain": [
              "      image_name                                       tags\n",
              "0     file_0.jpg                              clear primary\n",
              "1     file_1.jpg  agriculture clear habitation primary road\n",
              "2    file_10.jpg                        clear primary water\n",
              "3   file_100.jpg                  agriculture clear primary\n",
              "4  file_1000.jpg                              clear primary"
            ],
            "text/html": [
              "<div>\n",
              "<style scoped>\n",
              "    .dataframe tbody tr th:only-of-type {\n",
              "        vertical-align: middle;\n",
              "    }\n",
              "\n",
              "    .dataframe tbody tr th {\n",
              "        vertical-align: top;\n",
              "    }\n",
              "\n",
              "    .dataframe thead th {\n",
              "        text-align: right;\n",
              "    }\n",
              "</style>\n",
              "<table border=\"1\" class=\"dataframe\">\n",
              "  <thead>\n",
              "    <tr style=\"text-align: right;\">\n",
              "      <th></th>\n",
              "      <th>image_name</th>\n",
              "      <th>tags</th>\n",
              "    </tr>\n",
              "  </thead>\n",
              "  <tbody>\n",
              "    <tr>\n",
              "      <th>0</th>\n",
              "      <td>file_0.jpg</td>\n",
              "      <td>clear primary</td>\n",
              "    </tr>\n",
              "    <tr>\n",
              "      <th>1</th>\n",
              "      <td>file_1.jpg</td>\n",
              "      <td>agriculture clear habitation primary road</td>\n",
              "    </tr>\n",
              "    <tr>\n",
              "      <th>2</th>\n",
              "      <td>file_10.jpg</td>\n",
              "      <td>clear primary water</td>\n",
              "    </tr>\n",
              "    <tr>\n",
              "      <th>3</th>\n",
              "      <td>file_100.jpg</td>\n",
              "      <td>agriculture clear primary</td>\n",
              "    </tr>\n",
              "    <tr>\n",
              "      <th>4</th>\n",
              "      <td>file_1000.jpg</td>\n",
              "      <td>clear primary</td>\n",
              "    </tr>\n",
              "  </tbody>\n",
              "</table>\n",
              "</div>"
            ]
          },
          "metadata": {
            "tags": []
          },
          "execution_count": 33
        }
      ]
    },
    {
      "cell_type": "code",
      "metadata": {
        "trusted": true,
        "id": "DtzIP2SWE4ii",
        "colab_type": "code",
        "colab": {},
        "outputId": "3953890c-9d37-4f50-f20f-e5386b6d2058"
      },
      "source": [
        "final_result = pd.concat([result1, result2]) # concatenate the predictions of the test.jpg and \n",
        "                                             # test-additional.jpg into a single dataframe\n",
        "    \n",
        "final_result = final_result.reset_index().drop('index', axis=1) # reseting the index of the dataframe so it \n",
        "                                                                # matches that of sample submission datafarme\n",
        "\n",
        "print(final_result.shape)\n",
        "final_result.head()"
      ],
      "execution_count": null,
      "outputs": [
        {
          "output_type": "stream",
          "text": [
            "(61191, 2)\n"
          ],
          "name": "stdout"
        },
        {
          "output_type": "execute_result",
          "data": {
            "text/plain": [
              "   image_name                   tags\n",
              "0  test_0.jpg          clear primary\n",
              "1  test_1.jpg          clear primary\n",
              "2  test_2.jpg  partly_cloudy primary\n",
              "3  test_3.jpg          clear primary\n",
              "4  test_4.jpg  partly_cloudy primary"
            ],
            "text/html": [
              "<div>\n",
              "<style scoped>\n",
              "    .dataframe tbody tr th:only-of-type {\n",
              "        vertical-align: middle;\n",
              "    }\n",
              "\n",
              "    .dataframe tbody tr th {\n",
              "        vertical-align: top;\n",
              "    }\n",
              "\n",
              "    .dataframe thead th {\n",
              "        text-align: right;\n",
              "    }\n",
              "</style>\n",
              "<table border=\"1\" class=\"dataframe\">\n",
              "  <thead>\n",
              "    <tr style=\"text-align: right;\">\n",
              "      <th></th>\n",
              "      <th>image_name</th>\n",
              "      <th>tags</th>\n",
              "    </tr>\n",
              "  </thead>\n",
              "  <tbody>\n",
              "    <tr>\n",
              "      <th>0</th>\n",
              "      <td>test_0.jpg</td>\n",
              "      <td>clear primary</td>\n",
              "    </tr>\n",
              "    <tr>\n",
              "      <th>1</th>\n",
              "      <td>test_1.jpg</td>\n",
              "      <td>clear primary</td>\n",
              "    </tr>\n",
              "    <tr>\n",
              "      <th>2</th>\n",
              "      <td>test_2.jpg</td>\n",
              "      <td>partly_cloudy primary</td>\n",
              "    </tr>\n",
              "    <tr>\n",
              "      <th>3</th>\n",
              "      <td>test_3.jpg</td>\n",
              "      <td>clear primary</td>\n",
              "    </tr>\n",
              "    <tr>\n",
              "      <th>4</th>\n",
              "      <td>test_4.jpg</td>\n",
              "      <td>partly_cloudy primary</td>\n",
              "    </tr>\n",
              "  </tbody>\n",
              "</table>\n",
              "</div>"
            ]
          },
          "metadata": {
            "tags": []
          },
          "execution_count": 34
        }
      ]
    },
    {
      "cell_type": "code",
      "metadata": {
        "trusted": true,
        "id": "8b51wE3TE4iu",
        "colab_type": "code",
        "colab": {}
      },
      "source": [
        "# confirming that the predicted images are ordered as in sample submission dataframe\n",
        "assert sum(sample_submission['image_name'] == final_result['image_name']) == 61191"
      ],
      "execution_count": null,
      "outputs": []
    },
    {
      "cell_type": "code",
      "metadata": {
        "trusted": true,
        "id": "TOOP1rI4E4i7",
        "colab_type": "code",
        "colab": {},
        "outputId": "45261811-321c-4f87-eb40-e29325b3e0e0"
      },
      "source": [
        "# removing the .jpg extension from 'iamge_name' column\n",
        "final_result['image_name'] = final_result['image_name'].apply(lambda x: x[:-4])\n",
        "final_result.head()"
      ],
      "execution_count": null,
      "outputs": [
        {
          "output_type": "execute_result",
          "data": {
            "text/plain": [
              "  image_name                   tags\n",
              "0     test_0          clear primary\n",
              "1     test_1          clear primary\n",
              "2     test_2  partly_cloudy primary\n",
              "3     test_3          clear primary\n",
              "4     test_4  partly_cloudy primary"
            ],
            "text/html": [
              "<div>\n",
              "<style scoped>\n",
              "    .dataframe tbody tr th:only-of-type {\n",
              "        vertical-align: middle;\n",
              "    }\n",
              "\n",
              "    .dataframe tbody tr th {\n",
              "        vertical-align: top;\n",
              "    }\n",
              "\n",
              "    .dataframe thead th {\n",
              "        text-align: right;\n",
              "    }\n",
              "</style>\n",
              "<table border=\"1\" class=\"dataframe\">\n",
              "  <thead>\n",
              "    <tr style=\"text-align: right;\">\n",
              "      <th></th>\n",
              "      <th>image_name</th>\n",
              "      <th>tags</th>\n",
              "    </tr>\n",
              "  </thead>\n",
              "  <tbody>\n",
              "    <tr>\n",
              "      <th>0</th>\n",
              "      <td>test_0</td>\n",
              "      <td>clear primary</td>\n",
              "    </tr>\n",
              "    <tr>\n",
              "      <th>1</th>\n",
              "      <td>test_1</td>\n",
              "      <td>clear primary</td>\n",
              "    </tr>\n",
              "    <tr>\n",
              "      <th>2</th>\n",
              "      <td>test_2</td>\n",
              "      <td>partly_cloudy primary</td>\n",
              "    </tr>\n",
              "    <tr>\n",
              "      <th>3</th>\n",
              "      <td>test_3</td>\n",
              "      <td>clear primary</td>\n",
              "    </tr>\n",
              "    <tr>\n",
              "      <th>4</th>\n",
              "      <td>test_4</td>\n",
              "      <td>partly_cloudy primary</td>\n",
              "    </tr>\n",
              "  </tbody>\n",
              "</table>\n",
              "</div>"
            ]
          },
          "metadata": {
            "tags": []
          },
          "execution_count": 36
        }
      ]
    },
    {
      "cell_type": "code",
      "metadata": {
        "trusted": true,
        "id": "gsoDAaOgE4jM",
        "colab_type": "code",
        "colab": {}
      },
      "source": [
        "final_result.to_csv('second_submission.csv', index=False) # saving the predictions"
      ],
      "execution_count": null,
      "outputs": []
    }
  ]
}