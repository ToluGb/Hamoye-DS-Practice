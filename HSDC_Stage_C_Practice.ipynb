{
  "nbformat": 4,
  "nbformat_minor": 0,
  "metadata": {
    "colab": {
      "name": "HSDC Stage C Practice.ipynb",
      "provenance": [],
      "authorship_tag": "ABX9TyMCaRJRR1wThepLSwkgsm+m",
      "include_colab_link": true
    },
    "kernelspec": {
      "name": "python3",
      "display_name": "Python 3"
    }
  },
  "cells": [
    {
      "cell_type": "markdown",
      "metadata": {
        "id": "view-in-github",
        "colab_type": "text"
      },
      "source": [
        "<a href=\"https://colab.research.google.com/github/ToluGb/Hamoye-DSI-2020/blob/master/HSDC_Stage_C_Practice.ipynb\" target=\"_parent\"><img src=\"https://colab.research.google.com/assets/colab-badge.svg\" alt=\"Open In Colab\"/></a>"
      ]
    },
    {
      "cell_type": "code",
      "metadata": {
        "id": "coeYZhmce9hu",
        "colab_type": "code",
        "colab": {}
      },
      "source": [
        "import numpy as np\n",
        "import pandas as pd"
      ],
      "execution_count": null,
      "outputs": []
    },
    {
      "cell_type": "code",
      "metadata": {
        "id": "CJIHfx2jgHIO",
        "colab_type": "code",
        "colab": {
          "base_uri": "https://localhost:8080/",
          "height": 71
        },
        "outputId": "a7fd9f91-3dc4-44c5-c755-81bc849c57e0"
      },
      "source": [
        "import matplotlib.pyplot as plt\n",
        "import seaborn as sns"
      ],
      "execution_count": null,
      "outputs": [
        {
          "output_type": "stream",
          "text": [
            "/usr/local/lib/python3.6/dist-packages/statsmodels/tools/_testing.py:19: FutureWarning: pandas.util.testing is deprecated. Use the functions in the public API at pandas.testing instead.\n",
            "  import pandas.util.testing as tm\n"
          ],
          "name": "stderr"
        }
      ]
    },
    {
      "cell_type": "code",
      "metadata": {
        "id": "z-fr_A_JgNDZ",
        "colab_type": "code",
        "colab": {
          "base_uri": "https://localhost:8080/",
          "height": 71
        },
        "outputId": "73c3efb6-f1d5-4897-a235-cfd697451c81"
      },
      "source": [
        "df = pd.read_csv('https://query.data.world/s/wh6j7rxy2hvrn4ml75ci62apk5hgae')"
      ],
      "execution_count": null,
      "outputs": [
        {
          "output_type": "stream",
          "text": [
            "/usr/local/lib/python3.6/dist-packages/IPython/core/interactiveshell.py:2718: DtypeWarning: Columns (6) have mixed types.Specify dtype option on import or set low_memory=False.\n",
            "  interactivity=interactivity, compiler=compiler, result=result)\n"
          ],
          "name": "stderr"
        }
      ]
    },
    {
      "cell_type": "code",
      "metadata": {
        "id": "7qve71I_i8_Q",
        "colab_type": "code",
        "colab": {
          "base_uri": "https://localhost:8080/",
          "height": 204
        },
        "outputId": "03d83aa8-b1dd-4665-9477-e2fb55169c53"
      },
      "source": [
        "df.head()"
      ],
      "execution_count": null,
      "outputs": [
        {
          "output_type": "execute_result",
          "data": {
            "text/html": [
              "<div>\n",
              "<style scoped>\n",
              "    .dataframe tbody tr th:only-of-type {\n",
              "        vertical-align: middle;\n",
              "    }\n",
              "\n",
              "    .dataframe tbody tr th {\n",
              "        vertical-align: top;\n",
              "    }\n",
              "\n",
              "    .dataframe thead th {\n",
              "        text-align: right;\n",
              "    }\n",
              "</style>\n",
              "<table border=\"1\" class=\"dataframe\">\n",
              "  <thead>\n",
              "    <tr style=\"text-align: right;\">\n",
              "      <th></th>\n",
              "      <th>country</th>\n",
              "      <th>year</th>\n",
              "      <th>country_code</th>\n",
              "      <th>record</th>\n",
              "      <th>crop_land</th>\n",
              "      <th>grazing_land</th>\n",
              "      <th>forest_land</th>\n",
              "      <th>fishing_ground</th>\n",
              "      <th>built_up_land</th>\n",
              "      <th>carbon</th>\n",
              "      <th>total</th>\n",
              "      <th>QScore</th>\n",
              "    </tr>\n",
              "  </thead>\n",
              "  <tbody>\n",
              "    <tr>\n",
              "      <th>0</th>\n",
              "      <td>Armenia</td>\n",
              "      <td>1992</td>\n",
              "      <td>1</td>\n",
              "      <td>AreaPerCap</td>\n",
              "      <td>0.140292</td>\n",
              "      <td>0.199546</td>\n",
              "      <td>0.097188051</td>\n",
              "      <td>0.036888</td>\n",
              "      <td>0.029320</td>\n",
              "      <td>0.000000</td>\n",
              "      <td>5.032351e-01</td>\n",
              "      <td>3A</td>\n",
              "    </tr>\n",
              "    <tr>\n",
              "      <th>1</th>\n",
              "      <td>Armenia</td>\n",
              "      <td>1992</td>\n",
              "      <td>1</td>\n",
              "      <td>AreaTotHA</td>\n",
              "      <td>483000.000000</td>\n",
              "      <td>687000.000000</td>\n",
              "      <td>334600</td>\n",
              "      <td>127000.000000</td>\n",
              "      <td>100943.000800</td>\n",
              "      <td>0.000000</td>\n",
              "      <td>1.732543e+06</td>\n",
              "      <td>3A</td>\n",
              "    </tr>\n",
              "    <tr>\n",
              "      <th>2</th>\n",
              "      <td>Armenia</td>\n",
              "      <td>1992</td>\n",
              "      <td>1</td>\n",
              "      <td>BiocapPerCap</td>\n",
              "      <td>0.159804</td>\n",
              "      <td>0.135261</td>\n",
              "      <td>0.084003213</td>\n",
              "      <td>0.013742</td>\n",
              "      <td>0.033398</td>\n",
              "      <td>0.000000</td>\n",
              "      <td>4.262086e-01</td>\n",
              "      <td>3A</td>\n",
              "    </tr>\n",
              "    <tr>\n",
              "      <th>3</th>\n",
              "      <td>Armenia</td>\n",
              "      <td>1992</td>\n",
              "      <td>1</td>\n",
              "      <td>BiocapTotGHA</td>\n",
              "      <td>550176.242700</td>\n",
              "      <td>465677.972200</td>\n",
              "      <td>289207.1078</td>\n",
              "      <td>47311.551720</td>\n",
              "      <td>114982.279300</td>\n",
              "      <td>0.000000</td>\n",
              "      <td>1.467355e+06</td>\n",
              "      <td>3A</td>\n",
              "    </tr>\n",
              "    <tr>\n",
              "      <th>4</th>\n",
              "      <td>Armenia</td>\n",
              "      <td>1992</td>\n",
              "      <td>1</td>\n",
              "      <td>EFConsPerCap</td>\n",
              "      <td>0.387510</td>\n",
              "      <td>0.189462</td>\n",
              "      <td>1.26E-06</td>\n",
              "      <td>0.004165</td>\n",
              "      <td>0.033398</td>\n",
              "      <td>1.114093</td>\n",
              "      <td>1.728629e+00</td>\n",
              "      <td>3A</td>\n",
              "    </tr>\n",
              "  </tbody>\n",
              "</table>\n",
              "</div>"
            ],
            "text/plain": [
              "   country  year  country_code  ...    carbon         total  QScore\n",
              "0  Armenia  1992             1  ...  0.000000  5.032351e-01      3A\n",
              "1  Armenia  1992             1  ...  0.000000  1.732543e+06      3A\n",
              "2  Armenia  1992             1  ...  0.000000  4.262086e-01      3A\n",
              "3  Armenia  1992             1  ...  0.000000  1.467355e+06      3A\n",
              "4  Armenia  1992             1  ...  1.114093  1.728629e+00      3A\n",
              "\n",
              "[5 rows x 12 columns]"
            ]
          },
          "metadata": {
            "tags": []
          },
          "execution_count": 4
        }
      ]
    },
    {
      "cell_type": "code",
      "metadata": {
        "id": "Yzt2woAci_XA",
        "colab_type": "code",
        "colab": {
          "base_uri": "https://localhost:8080/",
          "height": 340
        },
        "outputId": "975a9037-a6d4-44cb-9ae4-76c5f0816a2d"
      },
      "source": [
        "df.info()"
      ],
      "execution_count": null,
      "outputs": [
        {
          "output_type": "stream",
          "text": [
            "<class 'pandas.core.frame.DataFrame'>\n",
            "RangeIndex: 72186 entries, 0 to 72185\n",
            "Data columns (total 12 columns):\n",
            " #   Column          Non-Null Count  Dtype  \n",
            "---  ------          --------------  -----  \n",
            " 0   country         72186 non-null  object \n",
            " 1   year            72186 non-null  int64  \n",
            " 2   country_code    72186 non-null  int64  \n",
            " 3   record          72186 non-null  object \n",
            " 4   crop_land       51714 non-null  float64\n",
            " 5   grazing_land    51714 non-null  float64\n",
            " 6   forest_land     51714 non-null  object \n",
            " 7   fishing_ground  51713 non-null  float64\n",
            " 8   built_up_land   51713 non-null  float64\n",
            " 9   carbon          51713 non-null  float64\n",
            " 10  total           72177 non-null  float64\n",
            " 11  QScore          72185 non-null  object \n",
            "dtypes: float64(6), int64(2), object(4)\n",
            "memory usage: 6.6+ MB\n"
          ],
          "name": "stdout"
        }
      ]
    },
    {
      "cell_type": "code",
      "metadata": {
        "id": "L-pH06e8jRhT",
        "colab_type": "code",
        "colab": {
          "base_uri": "https://localhost:8080/",
          "height": 119
        },
        "outputId": "30dc7891-61c4-4c83-d9a4-6261f8db279c"
      },
      "source": [
        "df['QScore'].value_counts()"
      ],
      "execution_count": null,
      "outputs": [
        {
          "output_type": "execute_result",
          "data": {
            "text/plain": [
              "3A    51481\n",
              "2A    10576\n",
              "2B    10096\n",
              "1B       16\n",
              "1A       16\n",
              "Name: QScore, dtype: int64"
            ]
          },
          "metadata": {
            "tags": []
          },
          "execution_count": 6
        }
      ]
    },
    {
      "cell_type": "code",
      "metadata": {
        "id": "ZL988cUrl0AO",
        "colab_type": "code",
        "colab": {
          "base_uri": "https://localhost:8080/",
          "height": 238
        },
        "outputId": "242330f1-f705-480c-be51-59639c12632a"
      },
      "source": [
        "df.isnull().sum()"
      ],
      "execution_count": null,
      "outputs": [
        {
          "output_type": "execute_result",
          "data": {
            "text/plain": [
              "country               0\n",
              "year                  0\n",
              "country_code          0\n",
              "record                0\n",
              "crop_land         20472\n",
              "grazing_land      20472\n",
              "forest_land       20472\n",
              "fishing_ground    20473\n",
              "built_up_land     20473\n",
              "carbon            20473\n",
              "total                 9\n",
              "QScore                1\n",
              "dtype: int64"
            ]
          },
          "metadata": {
            "tags": []
          },
          "execution_count": 7
        }
      ]
    },
    {
      "cell_type": "code",
      "metadata": {
        "id": "TbeKr4T7mYQM",
        "colab_type": "code",
        "colab": {}
      },
      "source": [
        "#for simplicity, we will drop the rows with missing values.\n",
        "df = df.dropna()"
      ],
      "execution_count": null,
      "outputs": []
    },
    {
      "cell_type": "code",
      "metadata": {
        "id": "5kH59vwKm2Bm",
        "colab_type": "code",
        "colab": {
          "base_uri": "https://localhost:8080/",
          "height": 238
        },
        "outputId": "60e52def-7031-4a48-af93-31302423c683"
      },
      "source": [
        "df.isna().sum()"
      ],
      "execution_count": null,
      "outputs": [
        {
          "output_type": "execute_result",
          "data": {
            "text/plain": [
              "country           0\n",
              "year              0\n",
              "country_code      0\n",
              "record            0\n",
              "crop_land         0\n",
              "grazing_land      0\n",
              "forest_land       0\n",
              "fishing_ground    0\n",
              "built_up_land     0\n",
              "carbon            0\n",
              "total             0\n",
              "QScore            0\n",
              "dtype: int64"
            ]
          },
          "metadata": {
            "tags": []
          },
          "execution_count": 9
        }
      ]
    },
    {
      "cell_type": "code",
      "metadata": {
        "id": "iMUxLAhBnAr-",
        "colab_type": "code",
        "colab": {
          "base_uri": "https://localhost:8080/",
          "height": 85
        },
        "outputId": "a65878a7-e90c-44a9-b6c6-5e1fd5141202"
      },
      "source": [
        "# An obvious change in our target variable after removing the missing values is that there are only three classes left \n",
        "# and from the distribution of the 3 classes, we can see that there is an obvious imbalance between the classes. \n",
        "# There are methods that can be applied to handle this imbalance such as oversampling and undersampling.\n",
        "\n",
        "df['QScore'].value_counts()"
      ],
      "execution_count": null,
      "outputs": [
        {
          "output_type": "execute_result",
          "data": {
            "text/plain": [
              "3A    51473\n",
              "2A      224\n",
              "1A       16\n",
              "Name: QScore, dtype: int64"
            ]
          },
          "metadata": {
            "tags": []
          },
          "execution_count": 10
        }
      ]
    },
    {
      "cell_type": "code",
      "metadata": {
        "id": "vFHKTqwnoQep",
        "colab_type": "code",
        "colab": {}
      },
      "source": [
        "# Oversampling involves increasing the number of instances in the class with fewer instances \n",
        "# Undersampling involves reducing the data points in the class with more instances.\n",
        "# For now, we will convert this to a binary classification problem by combining class '2A' and '1A'.\n",
        "\n",
        "df['QScore'] = df['QScore'].replace('1A', '2A')"
      ],
      "execution_count": null,
      "outputs": []
    },
    {
      "cell_type": "code",
      "metadata": {
        "id": "M-J0zHB2p8Vn",
        "colab_type": "code",
        "colab": {
          "base_uri": "https://localhost:8080/",
          "height": 68
        },
        "outputId": "d0731d0f-9619-46a4-fd37-4026004eb372"
      },
      "source": [
        "df.QScore.value_counts()"
      ],
      "execution_count": null,
      "outputs": [
        {
          "output_type": "execute_result",
          "data": {
            "text/plain": [
              "3A    51473\n",
              "2A      240\n",
              "Name: QScore, dtype: int64"
            ]
          },
          "metadata": {
            "tags": []
          },
          "execution_count": 12
        }
      ]
    },
    {
      "cell_type": "code",
      "metadata": {
        "id": "Rj8Cyc7FqCf3",
        "colab_type": "code",
        "colab": {}
      },
      "source": [
        "df_2A = df[df.QScore == '2A']\n",
        "df_3A = df[df.QScore == '3A'].sample(350)"
      ],
      "execution_count": null,
      "outputs": []
    },
    {
      "cell_type": "code",
      "metadata": {
        "id": "zEQ0EQMsqwJS",
        "colab_type": "code",
        "colab": {}
      },
      "source": [
        "data_df = df_2A.append(df_3A)"
      ],
      "execution_count": null,
      "outputs": []
    },
    {
      "cell_type": "code",
      "metadata": {
        "id": "I-MV1vOMrmTv",
        "colab_type": "code",
        "colab": {}
      },
      "source": [
        "import sklearn.utils\n",
        "data_df = sklearn.utils.shuffle(data_df)"
      ],
      "execution_count": null,
      "outputs": []
    },
    {
      "cell_type": "code",
      "metadata": {
        "id": "gJjsMNBgQvSi",
        "colab_type": "code",
        "colab": {
          "base_uri": "https://localhost:8080/",
          "height": 204
        },
        "outputId": "b7722bcc-b975-47ec-f5b8-9d46348db09b"
      },
      "source": [
        "data_df.head()"
      ],
      "execution_count": null,
      "outputs": [
        {
          "output_type": "execute_result",
          "data": {
            "text/html": [
              "<div>\n",
              "<style scoped>\n",
              "    .dataframe tbody tr th:only-of-type {\n",
              "        vertical-align: middle;\n",
              "    }\n",
              "\n",
              "    .dataframe tbody tr th {\n",
              "        vertical-align: top;\n",
              "    }\n",
              "\n",
              "    .dataframe thead th {\n",
              "        text-align: right;\n",
              "    }\n",
              "</style>\n",
              "<table border=\"1\" class=\"dataframe\">\n",
              "  <thead>\n",
              "    <tr style=\"text-align: right;\">\n",
              "      <th></th>\n",
              "      <th>country</th>\n",
              "      <th>year</th>\n",
              "      <th>country_code</th>\n",
              "      <th>record</th>\n",
              "      <th>crop_land</th>\n",
              "      <th>grazing_land</th>\n",
              "      <th>forest_land</th>\n",
              "      <th>fishing_ground</th>\n",
              "      <th>built_up_land</th>\n",
              "      <th>carbon</th>\n",
              "      <th>total</th>\n",
              "      <th>QScore</th>\n",
              "    </tr>\n",
              "  </thead>\n",
              "  <tbody>\n",
              "    <tr>\n",
              "      <th>18582</th>\n",
              "      <td>El Salvador</td>\n",
              "      <td>1986</td>\n",
              "      <td>60</td>\n",
              "      <td>EFProdPerCap</td>\n",
              "      <td>3.446892e-01</td>\n",
              "      <td>0.168796</td>\n",
              "      <td>0.281793632</td>\n",
              "      <td>1.187681e-02</td>\n",
              "      <td>0.056793</td>\n",
              "      <td>1.232756e-01</td>\n",
              "      <td>9.872239e-01</td>\n",
              "      <td>3A</td>\n",
              "    </tr>\n",
              "    <tr>\n",
              "      <th>42448</th>\n",
              "      <td>Morocco</td>\n",
              "      <td>2016</td>\n",
              "      <td>143</td>\n",
              "      <td>AreaPerCap</td>\n",
              "      <td>2.718926e-01</td>\n",
              "      <td>0.595292</td>\n",
              "      <td>0.159424888</td>\n",
              "      <td>1.478847e-01</td>\n",
              "      <td>0.028804</td>\n",
              "      <td>0.000000e+00</td>\n",
              "      <td>1.203299e+00</td>\n",
              "      <td>2A</td>\n",
              "    </tr>\n",
              "    <tr>\n",
              "      <th>11048</th>\n",
              "      <td>Sri Lanka</td>\n",
              "      <td>1964</td>\n",
              "      <td>38</td>\n",
              "      <td>AreaPerCap</td>\n",
              "      <td>1.726267e-01</td>\n",
              "      <td>0.021198</td>\n",
              "      <td>0.18806093</td>\n",
              "      <td>3.021659e-01</td>\n",
              "      <td>0.021670</td>\n",
              "      <td>0.000000e+00</td>\n",
              "      <td>7.057214e-01</td>\n",
              "      <td>3A</td>\n",
              "    </tr>\n",
              "    <tr>\n",
              "      <th>334</th>\n",
              "      <td>Afghanistan</td>\n",
              "      <td>1977</td>\n",
              "      <td>2</td>\n",
              "      <td>EFProdPerCap</td>\n",
              "      <td>4.110964e-01</td>\n",
              "      <td>0.451869</td>\n",
              "      <td>0.105173823</td>\n",
              "      <td>7.260000e-05</td>\n",
              "      <td>0.029989</td>\n",
              "      <td>6.541228e-02</td>\n",
              "      <td>1.063614e+00</td>\n",
              "      <td>3A</td>\n",
              "    </tr>\n",
              "    <tr>\n",
              "      <th>16021</th>\n",
              "      <td>Denmark</td>\n",
              "      <td>1971</td>\n",
              "      <td>54</td>\n",
              "      <td>EFConsTotGHA</td>\n",
              "      <td>7.350293e+06</td>\n",
              "      <td>376239.317800</td>\n",
              "      <td>3624703.832</td>\n",
              "      <td>6.854395e+06</td>\n",
              "      <td>794037.460300</td>\n",
              "      <td>2.422116e+07</td>\n",
              "      <td>4.322083e+07</td>\n",
              "      <td>3A</td>\n",
              "    </tr>\n",
              "  </tbody>\n",
              "</table>\n",
              "</div>"
            ],
            "text/plain": [
              "           country  year  country_code  ...        carbon         total  QScore\n",
              "18582  El Salvador  1986            60  ...  1.232756e-01  9.872239e-01      3A\n",
              "42448      Morocco  2016           143  ...  0.000000e+00  1.203299e+00      2A\n",
              "11048    Sri Lanka  1964            38  ...  0.000000e+00  7.057214e-01      3A\n",
              "334    Afghanistan  1977             2  ...  6.541228e-02  1.063614e+00      3A\n",
              "16021      Denmark  1971            54  ...  2.422116e+07  4.322083e+07      3A\n",
              "\n",
              "[5 rows x 12 columns]"
            ]
          },
          "metadata": {
            "tags": []
          },
          "execution_count": 16
        }
      ]
    },
    {
      "cell_type": "code",
      "metadata": {
        "id": "ljGGMe7esF-8",
        "colab_type": "code",
        "colab": {}
      },
      "source": [
        "data_df = data_df.reset_index(drop=True)"
      ],
      "execution_count": null,
      "outputs": []
    },
    {
      "cell_type": "code",
      "metadata": {
        "id": "voDU40fRSQGR",
        "colab_type": "code",
        "colab": {
          "base_uri": "https://localhost:8080/",
          "height": 204
        },
        "outputId": "192beae5-3b26-4c37-efaa-9785f466f09b"
      },
      "source": [
        "data_df.head()"
      ],
      "execution_count": null,
      "outputs": [
        {
          "output_type": "execute_result",
          "data": {
            "text/html": [
              "<div>\n",
              "<style scoped>\n",
              "    .dataframe tbody tr th:only-of-type {\n",
              "        vertical-align: middle;\n",
              "    }\n",
              "\n",
              "    .dataframe tbody tr th {\n",
              "        vertical-align: top;\n",
              "    }\n",
              "\n",
              "    .dataframe thead th {\n",
              "        text-align: right;\n",
              "    }\n",
              "</style>\n",
              "<table border=\"1\" class=\"dataframe\">\n",
              "  <thead>\n",
              "    <tr style=\"text-align: right;\">\n",
              "      <th></th>\n",
              "      <th>country</th>\n",
              "      <th>year</th>\n",
              "      <th>country_code</th>\n",
              "      <th>record</th>\n",
              "      <th>crop_land</th>\n",
              "      <th>grazing_land</th>\n",
              "      <th>forest_land</th>\n",
              "      <th>fishing_ground</th>\n",
              "      <th>built_up_land</th>\n",
              "      <th>carbon</th>\n",
              "      <th>total</th>\n",
              "      <th>QScore</th>\n",
              "    </tr>\n",
              "  </thead>\n",
              "  <tbody>\n",
              "    <tr>\n",
              "      <th>0</th>\n",
              "      <td>El Salvador</td>\n",
              "      <td>1986</td>\n",
              "      <td>60</td>\n",
              "      <td>EFProdPerCap</td>\n",
              "      <td>3.446892e-01</td>\n",
              "      <td>0.168796</td>\n",
              "      <td>0.281793632</td>\n",
              "      <td>1.187681e-02</td>\n",
              "      <td>0.056793</td>\n",
              "      <td>1.232756e-01</td>\n",
              "      <td>9.872239e-01</td>\n",
              "      <td>3A</td>\n",
              "    </tr>\n",
              "    <tr>\n",
              "      <th>1</th>\n",
              "      <td>Morocco</td>\n",
              "      <td>2016</td>\n",
              "      <td>143</td>\n",
              "      <td>AreaPerCap</td>\n",
              "      <td>2.718926e-01</td>\n",
              "      <td>0.595292</td>\n",
              "      <td>0.159424888</td>\n",
              "      <td>1.478847e-01</td>\n",
              "      <td>0.028804</td>\n",
              "      <td>0.000000e+00</td>\n",
              "      <td>1.203299e+00</td>\n",
              "      <td>2A</td>\n",
              "    </tr>\n",
              "    <tr>\n",
              "      <th>2</th>\n",
              "      <td>Sri Lanka</td>\n",
              "      <td>1964</td>\n",
              "      <td>38</td>\n",
              "      <td>AreaPerCap</td>\n",
              "      <td>1.726267e-01</td>\n",
              "      <td>0.021198</td>\n",
              "      <td>0.18806093</td>\n",
              "      <td>3.021659e-01</td>\n",
              "      <td>0.021670</td>\n",
              "      <td>0.000000e+00</td>\n",
              "      <td>7.057214e-01</td>\n",
              "      <td>3A</td>\n",
              "    </tr>\n",
              "    <tr>\n",
              "      <th>3</th>\n",
              "      <td>Afghanistan</td>\n",
              "      <td>1977</td>\n",
              "      <td>2</td>\n",
              "      <td>EFProdPerCap</td>\n",
              "      <td>4.110964e-01</td>\n",
              "      <td>0.451869</td>\n",
              "      <td>0.105173823</td>\n",
              "      <td>7.260000e-05</td>\n",
              "      <td>0.029989</td>\n",
              "      <td>6.541228e-02</td>\n",
              "      <td>1.063614e+00</td>\n",
              "      <td>3A</td>\n",
              "    </tr>\n",
              "    <tr>\n",
              "      <th>4</th>\n",
              "      <td>Denmark</td>\n",
              "      <td>1971</td>\n",
              "      <td>54</td>\n",
              "      <td>EFConsTotGHA</td>\n",
              "      <td>7.350293e+06</td>\n",
              "      <td>376239.317800</td>\n",
              "      <td>3624703.832</td>\n",
              "      <td>6.854395e+06</td>\n",
              "      <td>794037.460300</td>\n",
              "      <td>2.422116e+07</td>\n",
              "      <td>4.322083e+07</td>\n",
              "      <td>3A</td>\n",
              "    </tr>\n",
              "  </tbody>\n",
              "</table>\n",
              "</div>"
            ],
            "text/plain": [
              "       country  year  country_code  ...        carbon         total  QScore\n",
              "0  El Salvador  1986            60  ...  1.232756e-01  9.872239e-01      3A\n",
              "1      Morocco  2016           143  ...  0.000000e+00  1.203299e+00      2A\n",
              "2    Sri Lanka  1964            38  ...  0.000000e+00  7.057214e-01      3A\n",
              "3  Afghanistan  1977             2  ...  6.541228e-02  1.063614e+00      3A\n",
              "4      Denmark  1971            54  ...  2.422116e+07  4.322083e+07      3A\n",
              "\n",
              "[5 rows x 12 columns]"
            ]
          },
          "metadata": {
            "tags": []
          },
          "execution_count": 18
        }
      ]
    },
    {
      "cell_type": "code",
      "metadata": {
        "id": "ywXKJG_CtKbU",
        "colab_type": "code",
        "colab": {
          "base_uri": "https://localhost:8080/",
          "height": 34
        },
        "outputId": "3e9985d9-270c-4313-d070-408b7d174e69"
      },
      "source": [
        "data_df.shape"
      ],
      "execution_count": null,
      "outputs": [
        {
          "output_type": "execute_result",
          "data": {
            "text/plain": [
              "(590, 12)"
            ]
          },
          "metadata": {
            "tags": []
          },
          "execution_count": 19
        }
      ]
    },
    {
      "cell_type": "code",
      "metadata": {
        "id": "j3TJ5LHntOFE",
        "colab_type": "code",
        "colab": {
          "base_uri": "https://localhost:8080/",
          "height": 68
        },
        "outputId": "0b3b8ece-f830-4384-926f-55c797730d21"
      },
      "source": [
        "data_df.QScore.value_counts()"
      ],
      "execution_count": null,
      "outputs": [
        {
          "output_type": "execute_result",
          "data": {
            "text/plain": [
              "3A    350\n",
              "2A    240\n",
              "Name: QScore, dtype: int64"
            ]
          },
          "metadata": {
            "tags": []
          },
          "execution_count": 20
        }
      ]
    },
    {
      "cell_type": "code",
      "metadata": {
        "id": "y4I45ZeATjHg",
        "colab_type": "code",
        "colab": {
          "base_uri": "https://localhost:8080/",
          "height": 170
        },
        "outputId": "8f50229f-427e-453e-8d36-8ec20b5bd8fa"
      },
      "source": [
        "data_df.record.value_counts()"
      ],
      "execution_count": null,
      "outputs": [
        {
          "output_type": "execute_result",
          "data": {
            "text/plain": [
              "EFConsTotGHA    87\n",
              "BiocapTotGHA    80\n",
              "EFProdTotGHA    79\n",
              "AreaPerCap      73\n",
              "AreaTotHA       70\n",
              "BiocapPerCap    69\n",
              "EFProdPerCap    66\n",
              "EFConsPerCap    66\n",
              "Name: record, dtype: int64"
            ]
          },
          "metadata": {
            "tags": []
          },
          "execution_count": 21
        }
      ]
    },
    {
      "cell_type": "code",
      "metadata": {
        "id": "tIVRIQnJtdk_",
        "colab_type": "code",
        "colab": {}
      },
      "source": [
        "#more preprocessing\n",
        "data_df = data_df.drop(columns=['country_code', 'country', 'year'])"
      ],
      "execution_count": null,
      "outputs": []
    },
    {
      "cell_type": "code",
      "metadata": {
        "id": "eYWyNmYrvifD",
        "colab_type": "code",
        "colab": {
          "base_uri": "https://localhost:8080/",
          "height": 204
        },
        "outputId": "0d21bef5-5dce-450b-9993-9d1d2b96f531"
      },
      "source": [
        "data_df.head()"
      ],
      "execution_count": null,
      "outputs": [
        {
          "output_type": "execute_result",
          "data": {
            "text/html": [
              "<div>\n",
              "<style scoped>\n",
              "    .dataframe tbody tr th:only-of-type {\n",
              "        vertical-align: middle;\n",
              "    }\n",
              "\n",
              "    .dataframe tbody tr th {\n",
              "        vertical-align: top;\n",
              "    }\n",
              "\n",
              "    .dataframe thead th {\n",
              "        text-align: right;\n",
              "    }\n",
              "</style>\n",
              "<table border=\"1\" class=\"dataframe\">\n",
              "  <thead>\n",
              "    <tr style=\"text-align: right;\">\n",
              "      <th></th>\n",
              "      <th>record</th>\n",
              "      <th>crop_land</th>\n",
              "      <th>grazing_land</th>\n",
              "      <th>forest_land</th>\n",
              "      <th>fishing_ground</th>\n",
              "      <th>built_up_land</th>\n",
              "      <th>carbon</th>\n",
              "      <th>total</th>\n",
              "      <th>QScore</th>\n",
              "    </tr>\n",
              "  </thead>\n",
              "  <tbody>\n",
              "    <tr>\n",
              "      <th>0</th>\n",
              "      <td>EFProdPerCap</td>\n",
              "      <td>3.446892e-01</td>\n",
              "      <td>0.168796</td>\n",
              "      <td>0.281793632</td>\n",
              "      <td>1.187681e-02</td>\n",
              "      <td>0.056793</td>\n",
              "      <td>1.232756e-01</td>\n",
              "      <td>9.872239e-01</td>\n",
              "      <td>3A</td>\n",
              "    </tr>\n",
              "    <tr>\n",
              "      <th>1</th>\n",
              "      <td>AreaPerCap</td>\n",
              "      <td>2.718926e-01</td>\n",
              "      <td>0.595292</td>\n",
              "      <td>0.159424888</td>\n",
              "      <td>1.478847e-01</td>\n",
              "      <td>0.028804</td>\n",
              "      <td>0.000000e+00</td>\n",
              "      <td>1.203299e+00</td>\n",
              "      <td>2A</td>\n",
              "    </tr>\n",
              "    <tr>\n",
              "      <th>2</th>\n",
              "      <td>AreaPerCap</td>\n",
              "      <td>1.726267e-01</td>\n",
              "      <td>0.021198</td>\n",
              "      <td>0.18806093</td>\n",
              "      <td>3.021659e-01</td>\n",
              "      <td>0.021670</td>\n",
              "      <td>0.000000e+00</td>\n",
              "      <td>7.057214e-01</td>\n",
              "      <td>3A</td>\n",
              "    </tr>\n",
              "    <tr>\n",
              "      <th>3</th>\n",
              "      <td>EFProdPerCap</td>\n",
              "      <td>4.110964e-01</td>\n",
              "      <td>0.451869</td>\n",
              "      <td>0.105173823</td>\n",
              "      <td>7.260000e-05</td>\n",
              "      <td>0.029989</td>\n",
              "      <td>6.541228e-02</td>\n",
              "      <td>1.063614e+00</td>\n",
              "      <td>3A</td>\n",
              "    </tr>\n",
              "    <tr>\n",
              "      <th>4</th>\n",
              "      <td>EFConsTotGHA</td>\n",
              "      <td>7.350293e+06</td>\n",
              "      <td>376239.317800</td>\n",
              "      <td>3624703.832</td>\n",
              "      <td>6.854395e+06</td>\n",
              "      <td>794037.460300</td>\n",
              "      <td>2.422116e+07</td>\n",
              "      <td>4.322083e+07</td>\n",
              "      <td>3A</td>\n",
              "    </tr>\n",
              "  </tbody>\n",
              "</table>\n",
              "</div>"
            ],
            "text/plain": [
              "         record     crop_land   grazing_land  ...        carbon         total  QScore\n",
              "0  EFProdPerCap  3.446892e-01       0.168796  ...  1.232756e-01  9.872239e-01      3A\n",
              "1    AreaPerCap  2.718926e-01       0.595292  ...  0.000000e+00  1.203299e+00      2A\n",
              "2    AreaPerCap  1.726267e-01       0.021198  ...  0.000000e+00  7.057214e-01      3A\n",
              "3  EFProdPerCap  4.110964e-01       0.451869  ...  6.541228e-02  1.063614e+00      3A\n",
              "4  EFConsTotGHA  7.350293e+06  376239.317800  ...  2.422116e+07  4.322083e+07      3A\n",
              "\n",
              "[5 rows x 9 columns]"
            ]
          },
          "metadata": {
            "tags": []
          },
          "execution_count": 23
        }
      ]
    },
    {
      "cell_type": "code",
      "metadata": {
        "id": "zLbRaxHlvBwe",
        "colab_type": "code",
        "colab": {
          "base_uri": "https://localhost:8080/",
          "height": 204
        },
        "outputId": "f0d005fc-14bc-4c05-ca60-f99fcb71ef4d"
      },
      "source": [
        "X = data_df.drop(columns='QScore')\n",
        "X.head()"
      ],
      "execution_count": null,
      "outputs": [
        {
          "output_type": "execute_result",
          "data": {
            "text/html": [
              "<div>\n",
              "<style scoped>\n",
              "    .dataframe tbody tr th:only-of-type {\n",
              "        vertical-align: middle;\n",
              "    }\n",
              "\n",
              "    .dataframe tbody tr th {\n",
              "        vertical-align: top;\n",
              "    }\n",
              "\n",
              "    .dataframe thead th {\n",
              "        text-align: right;\n",
              "    }\n",
              "</style>\n",
              "<table border=\"1\" class=\"dataframe\">\n",
              "  <thead>\n",
              "    <tr style=\"text-align: right;\">\n",
              "      <th></th>\n",
              "      <th>record</th>\n",
              "      <th>crop_land</th>\n",
              "      <th>grazing_land</th>\n",
              "      <th>forest_land</th>\n",
              "      <th>fishing_ground</th>\n",
              "      <th>built_up_land</th>\n",
              "      <th>carbon</th>\n",
              "      <th>total</th>\n",
              "    </tr>\n",
              "  </thead>\n",
              "  <tbody>\n",
              "    <tr>\n",
              "      <th>0</th>\n",
              "      <td>EFProdPerCap</td>\n",
              "      <td>3.446892e-01</td>\n",
              "      <td>0.168796</td>\n",
              "      <td>0.281793632</td>\n",
              "      <td>1.187681e-02</td>\n",
              "      <td>0.056793</td>\n",
              "      <td>1.232756e-01</td>\n",
              "      <td>9.872239e-01</td>\n",
              "    </tr>\n",
              "    <tr>\n",
              "      <th>1</th>\n",
              "      <td>AreaPerCap</td>\n",
              "      <td>2.718926e-01</td>\n",
              "      <td>0.595292</td>\n",
              "      <td>0.159424888</td>\n",
              "      <td>1.478847e-01</td>\n",
              "      <td>0.028804</td>\n",
              "      <td>0.000000e+00</td>\n",
              "      <td>1.203299e+00</td>\n",
              "    </tr>\n",
              "    <tr>\n",
              "      <th>2</th>\n",
              "      <td>AreaPerCap</td>\n",
              "      <td>1.726267e-01</td>\n",
              "      <td>0.021198</td>\n",
              "      <td>0.18806093</td>\n",
              "      <td>3.021659e-01</td>\n",
              "      <td>0.021670</td>\n",
              "      <td>0.000000e+00</td>\n",
              "      <td>7.057214e-01</td>\n",
              "    </tr>\n",
              "    <tr>\n",
              "      <th>3</th>\n",
              "      <td>EFProdPerCap</td>\n",
              "      <td>4.110964e-01</td>\n",
              "      <td>0.451869</td>\n",
              "      <td>0.105173823</td>\n",
              "      <td>7.260000e-05</td>\n",
              "      <td>0.029989</td>\n",
              "      <td>6.541228e-02</td>\n",
              "      <td>1.063614e+00</td>\n",
              "    </tr>\n",
              "    <tr>\n",
              "      <th>4</th>\n",
              "      <td>EFConsTotGHA</td>\n",
              "      <td>7.350293e+06</td>\n",
              "      <td>376239.317800</td>\n",
              "      <td>3624703.832</td>\n",
              "      <td>6.854395e+06</td>\n",
              "      <td>794037.460300</td>\n",
              "      <td>2.422116e+07</td>\n",
              "      <td>4.322083e+07</td>\n",
              "    </tr>\n",
              "  </tbody>\n",
              "</table>\n",
              "</div>"
            ],
            "text/plain": [
              "         record     crop_land  ...        carbon         total\n",
              "0  EFProdPerCap  3.446892e-01  ...  1.232756e-01  9.872239e-01\n",
              "1    AreaPerCap  2.718926e-01  ...  0.000000e+00  1.203299e+00\n",
              "2    AreaPerCap  1.726267e-01  ...  0.000000e+00  7.057214e-01\n",
              "3  EFProdPerCap  4.110964e-01  ...  6.541228e-02  1.063614e+00\n",
              "4  EFConsTotGHA  7.350293e+06  ...  2.422116e+07  4.322083e+07\n",
              "\n",
              "[5 rows x 8 columns]"
            ]
          },
          "metadata": {
            "tags": []
          },
          "execution_count": 24
        }
      ]
    },
    {
      "cell_type": "code",
      "metadata": {
        "id": "1FwXGguLvXke",
        "colab_type": "code",
        "colab": {
          "base_uri": "https://localhost:8080/",
          "height": 119
        },
        "outputId": "cc1a2462-129e-4988-adc3-65928da12899"
      },
      "source": [
        "y = data_df['QScore']\n",
        "y.head()"
      ],
      "execution_count": null,
      "outputs": [
        {
          "output_type": "execute_result",
          "data": {
            "text/plain": [
              "0    3A\n",
              "1    2A\n",
              "2    3A\n",
              "3    3A\n",
              "4    3A\n",
              "Name: QScore, dtype: object"
            ]
          },
          "metadata": {
            "tags": []
          },
          "execution_count": 25
        }
      ]
    },
    {
      "cell_type": "code",
      "metadata": {
        "id": "8ph6lFGqvYvC",
        "colab_type": "code",
        "colab": {}
      },
      "source": [
        "#split the data into training and testing sets\n",
        "from sklearn.model_selection import train_test_split\n",
        "X_train, X_test, y_train, y_test = train_test_split(X, y, test_size=0.3, random_state=0)"
      ],
      "execution_count": null,
      "outputs": []
    },
    {
      "cell_type": "code",
      "metadata": {
        "id": "lXYiKhT9wWDK",
        "colab_type": "code",
        "colab": {
          "base_uri": "https://localhost:8080/",
          "height": 68
        },
        "outputId": "04a447ef-1255-4775-b30b-fbca76b38888"
      },
      "source": [
        "y_train.value_counts()\n",
        "# There is still an imbalance in the class distribution. For this, we use SMOTE only on the training data to handle this."
      ],
      "execution_count": null,
      "outputs": [
        {
          "output_type": "execute_result",
          "data": {
            "text/plain": [
              "3A    248\n",
              "2A    165\n",
              "Name: QScore, dtype: int64"
            ]
          },
          "metadata": {
            "tags": []
          },
          "execution_count": 27
        }
      ]
    },
    {
      "cell_type": "code",
      "metadata": {
        "id": "5rPYS7PK-zAZ",
        "colab_type": "code",
        "colab": {
          "base_uri": "https://localhost:8080/",
          "height": 119
        },
        "outputId": "b0b1aa06-4da5-400e-dc32-601c64c94796"
      },
      "source": [
        "# Encode categorical variable\n",
        "from sklearn.preprocessing import LabelEncoder\n",
        "encoder = LabelEncoder()\n",
        "X_train.record = encoder.fit_transform(X_train.record)\n",
        "X_test.record = encoder.transform(X_test.record)"
      ],
      "execution_count": null,
      "outputs": [
        {
          "output_type": "stream",
          "text": [
            "/usr/local/lib/python3.6/dist-packages/pandas/core/generic.py:5303: SettingWithCopyWarning: \n",
            "A value is trying to be set on a copy of a slice from a DataFrame.\n",
            "Try using .loc[row_indexer,col_indexer] = value instead\n",
            "\n",
            "See the caveats in the documentation: https://pandas.pydata.org/pandas-docs/stable/user_guide/indexing.html#returning-a-view-versus-a-copy\n",
            "  self[name] = value\n"
          ],
          "name": "stderr"
        }
      ]
    },
    {
      "cell_type": "code",
      "metadata": {
        "id": "dI2NUt5wEvOS",
        "colab_type": "code",
        "colab": {
          "base_uri": "https://localhost:8080/",
          "height": 122
        },
        "outputId": "9202a804-f181-4e1e-c7b7-ace712c8f099"
      },
      "source": [
        "import imblearn\n",
        "print(imblearn.__version__)"
      ],
      "execution_count": null,
      "outputs": [
        {
          "output_type": "stream",
          "text": [
            "0.4.3\n"
          ],
          "name": "stdout"
        },
        {
          "output_type": "stream",
          "text": [
            "/usr/local/lib/python3.6/dist-packages/sklearn/externals/six.py:31: FutureWarning: The module is deprecated in version 0.21 and will be removed in version 0.23 since we've dropped support for Python 2.7. Please rely on the official version of six (https://pypi.org/project/six/).\n",
            "  \"(https://pypi.org/project/six/).\", FutureWarning)\n",
            "/usr/local/lib/python3.6/dist-packages/sklearn/utils/deprecation.py:144: FutureWarning: The sklearn.neighbors.base module is  deprecated in version 0.22 and will be removed in version 0.24. The corresponding classes / functions should instead be imported from sklearn.neighbors. Anything that cannot be imported from sklearn.neighbors is now part of the private API.\n",
            "  warnings.warn(message, FutureWarning)\n"
          ],
          "name": "stderr"
        }
      ]
    },
    {
      "cell_type": "code",
      "metadata": {
        "id": "lcsuiLQUE7BT",
        "colab_type": "code",
        "colab": {
          "base_uri": "https://localhost:8080/",
          "height": 71
        },
        "outputId": "65921b61-ea16-46d6-b4c3-e62c8ee0a01e"
      },
      "source": [
        "from imblearn.over_sampling import SMOTE\n",
        "smote = SMOTE(random_state=1)\n",
        "X_train_balanced, y_balanced = smote.fit_sample(X_train, y_train)"
      ],
      "execution_count": null,
      "outputs": [
        {
          "output_type": "stream",
          "text": [
            "/usr/local/lib/python3.6/dist-packages/sklearn/utils/deprecation.py:87: FutureWarning: Function safe_indexing is deprecated; safe_indexing is deprecated in version 0.22 and will be removed in version 0.24.\n",
            "  warnings.warn(msg, category=FutureWarning)\n"
          ],
          "name": "stderr"
        }
      ]
    },
    {
      "cell_type": "code",
      "metadata": {
        "id": "W91-yqmVmPv8",
        "colab_type": "code",
        "colab": {
          "base_uri": "https://localhost:8080/",
          "height": 204
        },
        "outputId": "c6737a8f-afa8-4918-9700-c45435545427"
      },
      "source": [
        "X_train_balanced = pd.DataFrame(X_train_balanced, columns=X_train.columns)\n",
        "X_train_balanced.head()"
      ],
      "execution_count": null,
      "outputs": [
        {
          "output_type": "execute_result",
          "data": {
            "text/html": [
              "<div>\n",
              "<style scoped>\n",
              "    .dataframe tbody tr th:only-of-type {\n",
              "        vertical-align: middle;\n",
              "    }\n",
              "\n",
              "    .dataframe tbody tr th {\n",
              "        vertical-align: top;\n",
              "    }\n",
              "\n",
              "    .dataframe thead th {\n",
              "        text-align: right;\n",
              "    }\n",
              "</style>\n",
              "<table border=\"1\" class=\"dataframe\">\n",
              "  <thead>\n",
              "    <tr style=\"text-align: right;\">\n",
              "      <th></th>\n",
              "      <th>record</th>\n",
              "      <th>crop_land</th>\n",
              "      <th>grazing_land</th>\n",
              "      <th>forest_land</th>\n",
              "      <th>fishing_ground</th>\n",
              "      <th>built_up_land</th>\n",
              "      <th>carbon</th>\n",
              "      <th>total</th>\n",
              "    </tr>\n",
              "  </thead>\n",
              "  <tbody>\n",
              "    <tr>\n",
              "      <th>0</th>\n",
              "      <td>1.0</td>\n",
              "      <td>3.195000e+06</td>\n",
              "      <td>3.300000e+07</td>\n",
              "      <td>1.367726e+07</td>\n",
              "      <td>1.300510e+07</td>\n",
              "      <td>407855.011000</td>\n",
              "      <td>0.000000</td>\n",
              "      <td>6.328522e+07</td>\n",
              "    </tr>\n",
              "    <tr>\n",
              "      <th>1</th>\n",
              "      <td>3.0</td>\n",
              "      <td>1.562820e+04</td>\n",
              "      <td>2.030450e+05</td>\n",
              "      <td>1.916088e+03</td>\n",
              "      <td>2.630813e+05</td>\n",
              "      <td>194968.105900</td>\n",
              "      <td>0.000000</td>\n",
              "      <td>6.786386e+05</td>\n",
              "    </tr>\n",
              "    <tr>\n",
              "      <th>2</th>\n",
              "      <td>4.0</td>\n",
              "      <td>5.927834e-01</td>\n",
              "      <td>8.869142e-02</td>\n",
              "      <td>2.445946e-01</td>\n",
              "      <td>4.819840e-01</td>\n",
              "      <td>0.061915</td>\n",
              "      <td>4.016362</td>\n",
              "      <td>5.486330e+00</td>\n",
              "    </tr>\n",
              "    <tr>\n",
              "      <th>3</th>\n",
              "      <td>2.0</td>\n",
              "      <td>1.658459e-02</td>\n",
              "      <td>2.154705e-01</td>\n",
              "      <td>2.033345e-03</td>\n",
              "      <td>2.791808e-01</td>\n",
              "      <td>0.206899</td>\n",
              "      <td>0.000000</td>\n",
              "      <td>7.201686e-01</td>\n",
              "    </tr>\n",
              "    <tr>\n",
              "      <th>4</th>\n",
              "      <td>3.0</td>\n",
              "      <td>3.093838e+06</td>\n",
              "      <td>2.656209e+07</td>\n",
              "      <td>1.964798e+07</td>\n",
              "      <td>4.909478e+06</td>\n",
              "      <td>343396.981700</td>\n",
              "      <td>0.000000</td>\n",
              "      <td>5.455678e+07</td>\n",
              "    </tr>\n",
              "  </tbody>\n",
              "</table>\n",
              "</div>"
            ],
            "text/plain": [
              "   record     crop_land  grazing_land  ...  built_up_land    carbon         total\n",
              "0     1.0  3.195000e+06  3.300000e+07  ...  407855.011000  0.000000  6.328522e+07\n",
              "1     3.0  1.562820e+04  2.030450e+05  ...  194968.105900  0.000000  6.786386e+05\n",
              "2     4.0  5.927834e-01  8.869142e-02  ...       0.061915  4.016362  5.486330e+00\n",
              "3     2.0  1.658459e-02  2.154705e-01  ...       0.206899  0.000000  7.201686e-01\n",
              "4     3.0  3.093838e+06  2.656209e+07  ...  343396.981700  0.000000  5.455678e+07\n",
              "\n",
              "[5 rows x 8 columns]"
            ]
          },
          "metadata": {
            "tags": []
          },
          "execution_count": 31
        }
      ]
    },
    {
      "cell_type": "code",
      "metadata": {
        "id": "k14CdAxRFpqM",
        "colab_type": "code",
        "colab": {}
      },
      "source": [
        "from sklearn.preprocessing import MinMaxScaler\n",
        "scaler = MinMaxScaler()\n",
        "\n",
        "X_train_balanced = pd.DataFrame(X_train_balanced, columns=X_train.columns)\n",
        "normalised_train_df = scaler.fit_transform(X_train_balanced.drop(columns=['record']))\n",
        "normalised_train_df = pd.DataFrame(normalised_train_df, columns=X_train_balanced.drop(columns=['record']).columns)\n",
        "normalised_train_df['record'] = X_train_balanced['record']"
      ],
      "execution_count": null,
      "outputs": []
    },
    {
      "cell_type": "code",
      "metadata": {
        "id": "a4pWLbzQGOR3",
        "colab_type": "code",
        "colab": {
          "base_uri": "https://localhost:8080/",
          "height": 204
        },
        "outputId": "1a577c2b-f3e3-4f57-cf6c-9f529c7a664e"
      },
      "source": [
        "normalised_train_df.head()"
      ],
      "execution_count": null,
      "outputs": [
        {
          "output_type": "execute_result",
          "data": {
            "text/html": [
              "<div>\n",
              "<style scoped>\n",
              "    .dataframe tbody tr th:only-of-type {\n",
              "        vertical-align: middle;\n",
              "    }\n",
              "\n",
              "    .dataframe tbody tr th {\n",
              "        vertical-align: top;\n",
              "    }\n",
              "\n",
              "    .dataframe thead th {\n",
              "        text-align: right;\n",
              "    }\n",
              "</style>\n",
              "<table border=\"1\" class=\"dataframe\">\n",
              "  <thead>\n",
              "    <tr style=\"text-align: right;\">\n",
              "      <th></th>\n",
              "      <th>crop_land</th>\n",
              "      <th>grazing_land</th>\n",
              "      <th>forest_land</th>\n",
              "      <th>fishing_ground</th>\n",
              "      <th>built_up_land</th>\n",
              "      <th>carbon</th>\n",
              "      <th>total</th>\n",
              "      <th>record</th>\n",
              "    </tr>\n",
              "  </thead>\n",
              "  <tbody>\n",
              "    <tr>\n",
              "      <th>0</th>\n",
              "      <td>6.298212e-03</td>\n",
              "      <td>7.337268e-02</td>\n",
              "      <td>7.005827e-02</td>\n",
              "      <td>6.132184e-02</td>\n",
              "      <td>3.875561e-03</td>\n",
              "      <td>0.000000e+00</td>\n",
              "      <td>3.027174e-02</td>\n",
              "      <td>1.0</td>\n",
              "    </tr>\n",
              "    <tr>\n",
              "      <th>1</th>\n",
              "      <td>3.080743e-05</td>\n",
              "      <td>4.514531e-04</td>\n",
              "      <td>9.814671e-06</td>\n",
              "      <td>1.240485e-03</td>\n",
              "      <td>1.852646e-03</td>\n",
              "      <td>0.000000e+00</td>\n",
              "      <td>3.246188e-04</td>\n",
              "      <td>3.0</td>\n",
              "    </tr>\n",
              "    <tr>\n",
              "      <th>2</th>\n",
              "      <td>1.167752e-09</td>\n",
              "      <td>1.971978e-10</td>\n",
              "      <td>1.252873e-09</td>\n",
              "      <td>2.272658e-09</td>\n",
              "      <td>5.852223e-10</td>\n",
              "      <td>3.779695e-09</td>\n",
              "      <td>2.609312e-09</td>\n",
              "      <td>4.0</td>\n",
              "    </tr>\n",
              "    <tr>\n",
              "      <th>3</th>\n",
              "      <td>3.190751e-11</td>\n",
              "      <td>4.790802e-10</td>\n",
              "      <td>1.041529e-11</td>\n",
              "      <td>1.316398e-09</td>\n",
              "      <td>1.962908e-09</td>\n",
              "      <td>0.000000e+00</td>\n",
              "      <td>3.294749e-10</td>\n",
              "      <td>2.0</td>\n",
              "    </tr>\n",
              "    <tr>\n",
              "      <th>4</th>\n",
              "      <td>6.098795e-03</td>\n",
              "      <td>5.905854e-02</td>\n",
              "      <td>1.006417e-01</td>\n",
              "      <td>2.314925e-02</td>\n",
              "      <td>3.263062e-03</td>\n",
              "      <td>0.000000e+00</td>\n",
              "      <td>2.609659e-02</td>\n",
              "      <td>3.0</td>\n",
              "    </tr>\n",
              "  </tbody>\n",
              "</table>\n",
              "</div>"
            ],
            "text/plain": [
              "      crop_land  grazing_land   forest_land  ...        carbon         total  record\n",
              "0  6.298212e-03  7.337268e-02  7.005827e-02  ...  0.000000e+00  3.027174e-02     1.0\n",
              "1  3.080743e-05  4.514531e-04  9.814671e-06  ...  0.000000e+00  3.246188e-04     3.0\n",
              "2  1.167752e-09  1.971978e-10  1.252873e-09  ...  3.779695e-09  2.609312e-09     4.0\n",
              "3  3.190751e-11  4.790802e-10  1.041529e-11  ...  0.000000e+00  3.294749e-10     2.0\n",
              "4  6.098795e-03  5.905854e-02  1.006417e-01  ...  0.000000e+00  2.609659e-02     3.0\n",
              "\n",
              "[5 rows x 8 columns]"
            ]
          },
          "metadata": {
            "tags": []
          },
          "execution_count": 33
        }
      ]
    },
    {
      "cell_type": "code",
      "metadata": {
        "id": "8TMkI9SWH2tk",
        "colab_type": "code",
        "colab": {}
      },
      "source": [
        "X_test = X_test.reset_index(drop=True)\n",
        "normalised_test_df = scaler.transform(X_test.drop(columns=['record']))\n",
        "normalised_test_df = pd.DataFrame(normalised_test_df, columns=X_test.drop(columns=['record']).columns)\n",
        "normalised_test_df['record'] = X_test['record']"
      ],
      "execution_count": null,
      "outputs": []
    },
    {
      "cell_type": "code",
      "metadata": {
        "id": "FJDO52WR3XR4",
        "colab_type": "code",
        "colab": {
          "base_uri": "https://localhost:8080/",
          "height": 204
        },
        "outputId": "5c25e05d-c51f-4d35-a562-809a15669a90"
      },
      "source": [
        "normalised_test_df.head()"
      ],
      "execution_count": null,
      "outputs": [
        {
          "output_type": "execute_result",
          "data": {
            "text/html": [
              "<div>\n",
              "<style scoped>\n",
              "    .dataframe tbody tr th:only-of-type {\n",
              "        vertical-align: middle;\n",
              "    }\n",
              "\n",
              "    .dataframe tbody tr th {\n",
              "        vertical-align: top;\n",
              "    }\n",
              "\n",
              "    .dataframe thead th {\n",
              "        text-align: right;\n",
              "    }\n",
              "</style>\n",
              "<table border=\"1\" class=\"dataframe\">\n",
              "  <thead>\n",
              "    <tr style=\"text-align: right;\">\n",
              "      <th></th>\n",
              "      <th>crop_land</th>\n",
              "      <th>grazing_land</th>\n",
              "      <th>forest_land</th>\n",
              "      <th>fishing_ground</th>\n",
              "      <th>built_up_land</th>\n",
              "      <th>carbon</th>\n",
              "      <th>total</th>\n",
              "      <th>record</th>\n",
              "    </tr>\n",
              "  </thead>\n",
              "  <tbody>\n",
              "    <tr>\n",
              "      <th>0</th>\n",
              "      <td>6.299163e-10</td>\n",
              "      <td>6.957322e-11</td>\n",
              "      <td>1.449018e-09</td>\n",
              "      <td>3.268342e-09</td>\n",
              "      <td>1.528766e-09</td>\n",
              "      <td>2.428757e-10</td>\n",
              "      <td>8.204409e-10</td>\n",
              "      <td>4</td>\n",
              "    </tr>\n",
              "    <tr>\n",
              "      <th>1</th>\n",
              "      <td>1.675350e-03</td>\n",
              "      <td>5.569489e-03</td>\n",
              "      <td>1.658197e-01</td>\n",
              "      <td>0.000000e+00</td>\n",
              "      <td>4.491437e-04</td>\n",
              "      <td>0.000000e+00</td>\n",
              "      <td>1.711233e-02</td>\n",
              "      <td>3</td>\n",
              "    </tr>\n",
              "    <tr>\n",
              "      <th>2</th>\n",
              "      <td>4.538712e-10</td>\n",
              "      <td>3.512172e-10</td>\n",
              "      <td>8.984563e-10</td>\n",
              "      <td>8.368728e-10</td>\n",
              "      <td>2.969966e-10</td>\n",
              "      <td>2.070156e-10</td>\n",
              "      <td>4.600051e-10</td>\n",
              "      <td>6</td>\n",
              "    </tr>\n",
              "    <tr>\n",
              "      <th>3</th>\n",
              "      <td>1.513152e-02</td>\n",
              "      <td>8.305425e-05</td>\n",
              "      <td>1.037587e-02</td>\n",
              "      <td>6.877458e-03</td>\n",
              "      <td>1.429400e-02</td>\n",
              "      <td>4.207982e-02</td>\n",
              "      <td>2.746452e-02</td>\n",
              "      <td>7</td>\n",
              "    </tr>\n",
              "    <tr>\n",
              "      <th>4</th>\n",
              "      <td>5.772683e-03</td>\n",
              "      <td>2.517957e-03</td>\n",
              "      <td>2.562768e-03</td>\n",
              "      <td>7.320768e-04</td>\n",
              "      <td>1.974377e-03</td>\n",
              "      <td>8.295909e-03</td>\n",
              "      <td>6.572175e-03</td>\n",
              "      <td>5</td>\n",
              "    </tr>\n",
              "  </tbody>\n",
              "</table>\n",
              "</div>"
            ],
            "text/plain": [
              "      crop_land  grazing_land   forest_land  ...        carbon         total  record\n",
              "0  6.299163e-10  6.957322e-11  1.449018e-09  ...  2.428757e-10  8.204409e-10       4\n",
              "1  1.675350e-03  5.569489e-03  1.658197e-01  ...  0.000000e+00  1.711233e-02       3\n",
              "2  4.538712e-10  3.512172e-10  8.984563e-10  ...  2.070156e-10  4.600051e-10       6\n",
              "3  1.513152e-02  8.305425e-05  1.037587e-02  ...  4.207982e-02  2.746452e-02       7\n",
              "4  5.772683e-03  2.517957e-03  2.562768e-03  ...  8.295909e-03  6.572175e-03       5\n",
              "\n",
              "[5 rows x 8 columns]"
            ]
          },
          "metadata": {
            "tags": []
          },
          "execution_count": 35
        }
      ]
    },
    {
      "cell_type": "code",
      "metadata": {
        "id": "AnYPFfWPJI4M",
        "colab_type": "code",
        "colab": {
          "base_uri": "https://localhost:8080/",
          "height": 102
        },
        "outputId": "9094cdfb-7915-4a55-b441-5808d1633aa3"
      },
      "source": [
        "# Logistic Regression\n",
        "from sklearn.linear_model import LogisticRegression\n",
        "log_reg = LogisticRegression()\n",
        "log_reg.fit(normalised_train_df, y_balanced)"
      ],
      "execution_count": null,
      "outputs": [
        {
          "output_type": "execute_result",
          "data": {
            "text/plain": [
              "LogisticRegression(C=1.0, class_weight=None, dual=False, fit_intercept=True,\n",
              "                   intercept_scaling=1, l1_ratio=None, max_iter=100,\n",
              "                   multi_class='auto', n_jobs=None, penalty='l2',\n",
              "                   random_state=None, solver='lbfgs', tol=0.0001, verbose=0,\n",
              "                   warm_start=False)"
            ]
          },
          "metadata": {
            "tags": []
          },
          "execution_count": 36
        }
      ]
    },
    {
      "cell_type": "code",
      "metadata": {
        "id": "QpyB2h4b8rvc",
        "colab_type": "code",
        "colab": {}
      },
      "source": [
        "new_predictions = log_reg.predict(normalised_test_df)"
      ],
      "execution_count": null,
      "outputs": []
    },
    {
      "cell_type": "markdown",
      "metadata": {
        "id": "3Bw2kSg58T3U",
        "colab_type": "text"
      },
      "source": [
        "**Evaluation Metrics**"
      ]
    },
    {
      "cell_type": "code",
      "metadata": {
        "id": "Z0jpZQL7M0cv",
        "colab_type": "code",
        "colab": {
          "base_uri": "https://localhost:8080/",
          "height": 51
        },
        "outputId": "1e31cf09-118d-4503-8085-5d60efdac978"
      },
      "source": [
        "from sklearn.metrics import recall_score, accuracy_score, precision_score, f1_score, confusion_matrix\n",
        "# Confusion Matrix\n",
        "cnf_mat = confusion_matrix(y_true=y_test, y_pred=new_predictions, labels=['2A', '3A'])\n",
        "cnf_mat "
      ],
      "execution_count": null,
      "outputs": [
        {
          "output_type": "execute_result",
          "data": {
            "text/plain": [
              "array([[60, 15],\n",
              "       [72, 30]])"
            ]
          },
          "metadata": {
            "tags": []
          },
          "execution_count": 38
        }
      ]
    },
    {
      "cell_type": "code",
      "metadata": {
        "id": "Wp5py3J49HqK",
        "colab_type": "code",
        "colab": {
          "base_uri": "https://localhost:8080/",
          "height": 34
        },
        "outputId": "6d805344-88bf-4f99-dbd5-3445fb261a9e"
      },
      "source": [
        "# Accuracy\n",
        "accuracy = accuracy_score(y_true=y_test, y_pred=new_predictions)\n",
        "print('Accuracy: {}'.format(round(accuracy*100), 2)) "
      ],
      "execution_count": null,
      "outputs": [
        {
          "output_type": "stream",
          "text": [
            "Accuracy: 51.0\n"
          ],
          "name": "stdout"
        }
      ]
    },
    {
      "cell_type": "code",
      "metadata": {
        "id": "VGEoRZc0-W0j",
        "colab_type": "code",
        "colab": {
          "base_uri": "https://localhost:8080/",
          "height": 34
        },
        "outputId": "6b1a0663-ab74-45e3-c610-71f269f216c3"
      },
      "source": [
        "# Precision\n",
        "precision = precision_score(y_true=y_test, y_pred=new_predictions, pos_label='2A')\n",
        "print('Precision: {}'.format(round(precision*100), 2)) "
      ],
      "execution_count": null,
      "outputs": [
        {
          "output_type": "stream",
          "text": [
            "Precision: 45.0\n"
          ],
          "name": "stdout"
        }
      ]
    },
    {
      "cell_type": "code",
      "metadata": {
        "id": "NK7Lq8lX-oQl",
        "colab_type": "code",
        "colab": {
          "base_uri": "https://localhost:8080/",
          "height": 34
        },
        "outputId": "106058a6-2f01-4241-b2ce-706d3ac6c68b"
      },
      "source": [
        "# Recall\n",
        "recall = recall_score(y_true=y_test, y_pred=new_predictions, pos_label='2A')\n",
        "print('Recall: {}'.format(round(recall*100), 2)) "
      ],
      "execution_count": null,
      "outputs": [
        {
          "output_type": "stream",
          "text": [
            "Recall: 80.0\n"
          ],
          "name": "stdout"
        }
      ]
    },
    {
      "cell_type": "code",
      "metadata": {
        "id": "SEyqlXSY_C0F",
        "colab_type": "code",
        "colab": {
          "base_uri": "https://localhost:8080/",
          "height": 34
        },
        "outputId": "b5f7a3dc-b388-4b44-d01c-c8c0c792cb8b"
      },
      "source": [
        "# F1-Score\n",
        "f1 = f1_score(y_true=y_test, y_pred=new_predictions, pos_label='2A')\n",
        "print('F1: {}'.format(round(f1*100), 2)) #prints 45.0"
      ],
      "execution_count": null,
      "outputs": [
        {
          "output_type": "stream",
          "text": [
            "F1: 58.0\n"
          ],
          "name": "stdout"
        }
      ]
    },
    {
      "cell_type": "code",
      "metadata": {
        "id": "7hM3GypOENhy",
        "colab_type": "code",
        "colab": {
          "base_uri": "https://localhost:8080/",
          "height": 34
        },
        "outputId": "7967d3a7-3dc2-496d-f523-9aeebad58003"
      },
      "source": [
        "# Cross Validation and Accuracy\n",
        "from sklearn.model_selection import cross_val_score\n",
        "scores = cross_val_score(log_reg, normalised_train_df, y_balanced, cv=5, scoring='f1_macro')\n",
        "scores"
      ],
      "execution_count": null,
      "outputs": [
        {
          "output_type": "execute_result",
          "data": {
            "text/plain": [
              "array([0.53926282, 0.46244344, 0.49560976, 0.58050847, 0.56      ])"
            ]
          },
          "metadata": {
            "tags": []
          },
          "execution_count": 43
        }
      ]
    },
    {
      "cell_type": "code",
      "metadata": {
        "id": "5T7eOzVLWjLp",
        "colab_type": "code",
        "colab": {}
      },
      "source": [
        "# K-Fold Cross Validation\n",
        "from sklearn.model_selection import KFold\n",
        "kf = KFold(n_splits=5)\n",
        "kf.split(normalised_train_df) \n",
        "f1_scores = []\n",
        "#run for every split\n",
        "for train_index, test_index in kf.split(normalised_train_df):\n",
        "  x_train, x_test = normalised_train_df.iloc[train_index],normalised_train_df.iloc[test_index]\n",
        "  y_train, y_test = y_balanced[train_index], y_balanced[test_index]\n",
        "  model = LogisticRegression().fit(x_train, y_train)\n",
        "  #save result to list\n",
        "  f1_scores.append(f1_score(y_true=y_test, y_pred=model.predict(x_test), \n",
        "                   pos_label='2A')*100)"
      ],
      "execution_count": null,
      "outputs": []
    },
    {
      "cell_type": "code",
      "metadata": {
        "id": "waER4bDBXtaA",
        "colab_type": "code",
        "colab": {
          "base_uri": "https://localhost:8080/",
          "height": 102
        },
        "outputId": "950a8f2e-782d-4a4b-9915-602ef090088c"
      },
      "source": [
        "f1_scores"
      ],
      "execution_count": null,
      "outputs": [
        {
          "output_type": "execute_result",
          "data": {
            "text/plain": [
              "[53.96825396825397,\n",
              " 57.36434108527132,\n",
              " 54.26356589147288,\n",
              " 52.79999999999999,\n",
              " 0.0]"
            ]
          },
          "metadata": {
            "tags": []
          },
          "execution_count": 45
        }
      ]
    },
    {
      "cell_type": "code",
      "metadata": {
        "id": "OcABFLZnXywg",
        "colab_type": "code",
        "colab": {}
      },
      "source": [
        "# Leave Out One Cross Validation (LOOCV)\n",
        "from sklearn.model_selection import LeaveOneOut\n",
        "loo = LeaveOneOut()\n",
        "scores = cross_val_score(LogisticRegression(), normalised_train_df, y_balanced, cv=loo, \n",
        "                         scoring='f1_macro')\n",
        "average_score = scores.mean() * 100"
      ],
      "execution_count": null,
      "outputs": []
    },
    {
      "cell_type": "code",
      "metadata": {
        "id": "YSn7UgLBYO-t",
        "colab_type": "code",
        "colab": {
          "base_uri": "https://localhost:8080/",
          "height": 34
        },
        "outputId": "d2621519-719f-44de-d22f-361debf3c3cf"
      },
      "source": [
        "average_score"
      ],
      "execution_count": null,
      "outputs": [
        {
          "output_type": "execute_result",
          "data": {
            "text/plain": [
              "55.64516129032258"
            ]
          },
          "metadata": {
            "tags": []
          },
          "execution_count": 47
        }
      ]
    },
    {
      "cell_type": "code",
      "metadata": {
        "id": "CG5uLrlTYSG_",
        "colab_type": "code",
        "colab": {}
      },
      "source": [
        "# Stratified K-Fold Cross Validation\n",
        "from sklearn.model_selection import StratifiedKFold\n",
        "skf = StratifiedKFold(n_splits=5, shuffle=True, random_state=1)\n",
        "f1_scores = []\n",
        "#run for every split\n",
        "for train_index, test_index in skf.split(normalised_train_df, y_balanced):\n",
        "  x_train, x_test = np.array(normalised_train_df)[train_index], np.array(normalised_train_df)[test_index]\n",
        "  y_train, y_test  = y_balanced[train_index], y_balanced[test_index]\n",
        "  model = LogisticRegression().fit(x_train, y_train)\n",
        "  #save result to list\n",
        "  f1_scores.append(f1_score(y_true=y_test, y_pred=model.predict(x_test), pos_label='2A'))"
      ],
      "execution_count": null,
      "outputs": []
    },
    {
      "cell_type": "code",
      "metadata": {
        "id": "3xWbxDB0YqsD",
        "colab_type": "code",
        "colab": {
          "base_uri": "https://localhost:8080/",
          "height": 102
        },
        "outputId": "fdd6266a-8517-4b33-a49f-db960da2ae85"
      },
      "source": [
        "f1_scores"
      ],
      "execution_count": null,
      "outputs": [
        {
          "output_type": "execute_result",
          "data": {
            "text/plain": [
              "[0.6557377049180328,\n",
              " 0.58,\n",
              " 0.6101694915254238,\n",
              " 0.5137614678899083,\n",
              " 0.5333333333333333]"
            ]
          },
          "metadata": {
            "tags": []
          },
          "execution_count": 49
        }
      ]
    },
    {
      "cell_type": "code",
      "metadata": {
        "id": "E0NeWbL-82zj",
        "colab_type": "code",
        "colab": {
          "base_uri": "https://localhost:8080/",
          "height": 119
        },
        "outputId": "561010fb-14ef-4bef-e823-c7511c74e9cb"
      },
      "source": [
        "from sklearn.tree import DecisionTreeClassifier\n",
        "dec_tree = DecisionTreeClassifier()\n",
        "dec_tree.fit(normalised_train_df, y_balanced)"
      ],
      "execution_count": null,
      "outputs": [
        {
          "output_type": "execute_result",
          "data": {
            "text/plain": [
              "DecisionTreeClassifier(ccp_alpha=0.0, class_weight=None, criterion='gini',\n",
              "                       max_depth=None, max_features=None, max_leaf_nodes=None,\n",
              "                       min_impurity_decrease=0.0, min_impurity_split=None,\n",
              "                       min_samples_leaf=1, min_samples_split=2,\n",
              "                       min_weight_fraction_leaf=0.0, presort='deprecated',\n",
              "                       random_state=None, splitter='best')"
            ]
          },
          "metadata": {
            "tags": []
          },
          "execution_count": 50
        }
      ]
    },
    {
      "cell_type": "code",
      "metadata": {
        "id": "-MP6z_2ij9Bf",
        "colab_type": "code",
        "colab": {}
      },
      "source": [
        ""
      ],
      "execution_count": null,
      "outputs": []
    }
  ]
}